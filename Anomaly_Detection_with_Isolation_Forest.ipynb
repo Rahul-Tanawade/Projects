{
  "nbformat": 4,
  "nbformat_minor": 0,
  "metadata": {
    "colab": {
      "name": "Anomaly Detection with Isolation Forest.ipynb",
      "provenance": [],
      "collapsed_sections": [],
      "authorship_tag": "ABX9TyP22B7znUsNA3XFg//rpX6/"
    },
    "kernelspec": {
      "name": "python3",
      "display_name": "Python 3"
    },
    "language_info": {
      "name": "python"
    }
  },
  "cells": [
    {
      "cell_type": "markdown",
      "metadata": {
        "id": "cYwYw1tnmL_h"
      },
      "source": [
        "\n",
        "**The Datasets¶**\n",
        "\n",
        "\n",
        "We are going to test Isolation Forest (IF), python implementation of which is available in scikit-learn 0.18, on two real datasets from kddcup99. \n",
        "\n",
        "The datasets are the two versions (SA and SF) of the tcpdump portions of the 1998 DARPA off-line Intrusion Detection System dataset, created by MIT Lincoln Lab in 1999.\n",
        "\n",
        "Full dataset description available at http://scikit-learn.org/stable/modules/generated/sklearn.datasets.fetch_kddcup99.html#sklearn.datasets.fetch_kddcup99\n",
        "\n",
        "\n",
        "SA is obtained by simply selecting all the normal data, and a small proportion of abnormal data to give an anomaly ratio of 1%. SA has all 41 attributes.\n",
        "\n",
        "SF is the data where attribute logged_in is positive, thus focusing on the intrusion attack, which gives an anomaly ratio 0.3%. SF has log-transformed 4 attributes.\n",
        "\n",
        "\n",
        "we are going to implement and show results on SF dataset\n",
        "\n"
      ]
    },
    {
      "cell_type": "markdown",
      "metadata": {
        "id": "35Y0p8FjmuW3"
      },
      "source": [
        "**importing dataset**"
      ]
    },
    {
      "cell_type": "code",
      "metadata": {
        "id": "lFYmxxf_M9Oj"
      },
      "source": [
        "from sklearn import datasets\n",
        "from sklearn.model_selection import train_test_split"
      ],
      "execution_count": null,
      "outputs": []
    },
    {
      "cell_type": "code",
      "metadata": {
        "id": "gJXfK9ZkNRG2"
      },
      "source": [
        "sf = datasets.fetch_kddcup99(subset='SF', percent10=True)"
      ],
      "execution_count": null,
      "outputs": []
    },
    {
      "cell_type": "markdown",
      "metadata": {
        "id": "8oLY1bJImyVk"
      },
      "source": [
        "**defining features and targets**"
      ]
    },
    {
      "cell_type": "code",
      "metadata": {
        "id": "qDj2zzaDOXvU"
      },
      "source": [
        "import pandas as pd\n",
        "dfsf=pd.DataFrame(sf.data,columns=[\"duration\", \"service\", \"src_bytes\", \"dst_bytes\"])"
      ],
      "execution_count": null,
      "outputs": []
    },
    {
      "cell_type": "code",
      "metadata": {
        "colab": {
          "base_uri": "https://localhost:8080/"
        },
        "id": "heSz3OciOq86",
        "outputId": "9dfe6f0c-e49c-40a2-de97-c863a7b9b926"
      },
      "source": [
        "dfsf['target']=sf.target\n",
        "dfsf['target'].value_counts()"
      ],
      "execution_count": null,
      "outputs": [
        {
          "output_type": "execute_result",
          "data": {
            "text/plain": [
              "b'normal.'             69939\n",
              "b'back.'                2203\n",
              "b'warezclient.'         1020\n",
              "b'buffer_overflow.'       30\n",
              "b'loadmodule.'             8\n",
              "b'ftp_write.'              6\n",
              "b'satan.'                  6\n",
              "b'rootkit.'                5\n",
              "b'multihop.'               4\n",
              "b'ipsweep.'                4\n",
              "b'phf.'                    4\n",
              "b'perl.'                   3\n",
              "b'warezmaster.'            2\n",
              "b'guess_passwd.'           1\n",
              "b'spy.'                    1\n",
              "b'imap.'                   1\n",
              "Name: target, dtype: int64"
            ]
          },
          "metadata": {
            "tags": []
          },
          "execution_count": 6
        }
      ]
    },
    {
      "cell_type": "code",
      "metadata": {
        "id": "1rwvnxqRWrY-"
      },
      "source": [
        "dfsf_bkp=dfsf.copy()"
      ],
      "execution_count": null,
      "outputs": []
    },
    {
      "cell_type": "markdown",
      "metadata": {
        "id": "MBQ7BcMWm61j"
      },
      "source": [
        "**defining anomoly rate**"
      ]
    },
    {
      "cell_type": "code",
      "metadata": {
        "colab": {
          "base_uri": "https://localhost:8080/"
        },
        "id": "mUtQLbH7O8vg",
        "outputId": "4f5d1fc2-7532-42d7-fa38-e97f06e09020"
      },
      "source": [
        "#defining anomoly rate\n",
        "anamoly_rate= 1-(len(dfsf_bkp.loc[dfsf_bkp['target']==b'normal.']) / len(dfsf_bkp))\n",
        "print(\"anamoly rate is {}\".format(anamoly_rate))"
      ],
      "execution_count": null,
      "outputs": [
        {
          "output_type": "stream",
          "text": [
            "anamoly rate is 0.04503188279148518\n"
          ],
          "name": "stdout"
        }
      ]
    },
    {
      "cell_type": "markdown",
      "metadata": {
        "id": "DNGZyY5_m-cA"
      },
      "source": [
        "**data preprocessing : encoding & normalisation**"
      ]
    },
    {
      "cell_type": "code",
      "metadata": {
        "id": "IFDfhrulQZ2T"
      },
      "source": [
        "dfsf['binary_target']=[1 if x==b'normal.' else -1 for x in dfsf['target']]\n",
        "\n",
        "from sklearn import preprocessing\n",
        "leSf=preprocessing.LabelEncoder()\n",
        "\n",
        "def byte_decoder(val):\n",
        "    # decodes byte literals to strings\n",
        "    return val.decode('utf-8')\n",
        "\n",
        "toDecodeSF = ['service', 'target']\n",
        "\n",
        "for f in toDecodeSF:\n",
        "  dfsf[f] = list(map(byte_decoder, dfsf[f]))\n",
        "  dfsf[f] = leSf.fit_transform( dfsf[f])\n",
        "\n",
        "dfsf_normed=preprocessing.normalize(dfsf.drop(['target', 'binary_target'],axis=1))"
      ],
      "execution_count": null,
      "outputs": []
    },
    {
      "cell_type": "code",
      "metadata": {
        "colab": {
          "base_uri": "https://localhost:8080/"
        },
        "id": "gYgvS5IkXXyL",
        "outputId": "0f5e05ac-154a-44dd-b831-ba27f9e98cfb"
      },
      "source": [
        "print(dfsf_normed.shape)\n",
        "dfsf_normed"
      ],
      "execution_count": null,
      "outputs": [
        {
          "output_type": "stream",
          "text": [
            "(73237, 4)\n"
          ],
          "name": "stdout"
        },
        {
          "output_type": "execute_result",
          "data": {
            "text/plain": [
              "array([[-0.17641854,  0.61294077,  0.39833867,  0.65917101],\n",
              "       [-0.19631525,  0.68206905,  0.46695146,  0.52744522],\n",
              "       [-0.18742607,  0.65118487,  0.44443456,  0.58592462],\n",
              "       ...,\n",
              "       [-0.18939444,  0.65802367,  0.43706742,  0.58318665],\n",
              "       [-0.18691023,  0.64939265,  0.4605547 ,  0.57553724],\n",
              "       [-0.18862485,  0.65534986,  0.44150333,  0.58310551]])"
            ]
          },
          "metadata": {
            "tags": []
          },
          "execution_count": 10
        }
      ]
    },
    {
      "cell_type": "markdown",
      "metadata": {
        "id": "HtKaGMe9nGqz"
      },
      "source": [
        "**split into train & test datasets**"
      ]
    },
    {
      "cell_type": "code",
      "metadata": {
        "colab": {
          "base_uri": "https://localhost:8080/"
        },
        "id": "Bwa2WV9DZtEG",
        "outputId": "cfd16cc9-db54-466c-a821-20d842c95366"
      },
      "source": [
        "X_train_sf,X_test_sf,y_train_sf,y_test_sf = train_test_split(dfsf_normed,dfsf['binary_target'],test_size=0.33,random_state=11)\n",
        "print(X_train_sf.shape)\n",
        "print(X_test_sf.shape)\n",
        "print(y_train_sf.shape)\n",
        "print(y_test_sf.shape)"
      ],
      "execution_count": null,
      "outputs": [
        {
          "output_type": "stream",
          "text": [
            "(49068, 4)\n",
            "(24169, 4)\n",
            "(49068,)\n",
            "(24169,)\n"
          ],
          "name": "stdout"
        }
      ]
    },
    {
      "cell_type": "markdown",
      "metadata": {
        "id": "lcwxV_HBgUsv"
      },
      "source": [
        "Train Isolation Forest and LOF (same parameters):\n",
        "\n",
        "num_estimators = 100\n",
        "\n",
        "max_samples = 75%\n",
        "\n",
        "contamination = 15%"
      ]
    },
    {
      "cell_type": "markdown",
      "metadata": {
        "id": "-VGVozJgnj3P"
      },
      "source": [
        "**Define and Fit Model**\n",
        "\n",
        "We'll create a model variable and instantiate the IsolationForest class. We are passing the values of four parameters to the Isolation Forest method, listed below.\n",
        "\n",
        "\n",
        "**Number of estimators:** n_estimators refers to the number of base estimators or trees in the ensemble, i.e. the number of trees that will get built in the forest. This is an integer parameter and is optional. The default value is 100.\n",
        "\n",
        "\n",
        "**Max samples:** max_samples is the number of samples to be drawn to train each base estimator. If max_samples is more than the number of samples provided, all samples will be used for all trees. The default value of max_samples is 'auto'. If 'auto', then max_samples=min(256, n_samples)\n",
        "\n",
        "\n",
        "**Contamination:** This is a parameter that the algorithm is quite sensitive to; it refers to the expected proportion of outliers in the data set. This is used when fitting to define the threshold on the scores of the samples. The default value is 'auto'. If ‘auto’, the threshold value will be determined as in the original paper of Isolation Forest.\n",
        "\n",
        "\n",
        "**Max features:** All the base estimators are not trained with all the features available in the dataset. It is the number of features to draw from the total features to train each base estimator or tree.The default value of max features is one."
      ]
    },
    {
      "cell_type": "code",
      "metadata": {
        "colab": {
          "base_uri": "https://localhost:8080/"
        },
        "id": "dQslhRKUUmQe",
        "outputId": "bdf9be6f-071c-4fe7-daef-7c77e93ba382"
      },
      "source": [
        "from sklearn.ensemble import IsolationForest\n",
        "import datetime\n",
        "clfIF = IsolationForest(max_samples=0.75, random_state=11, contamination = 0.15, n_estimators=100, n_jobs=-1)\n",
        "\n",
        "start=datetime.datetime.now()\n",
        "clfIF.fit(X_train_sf,y_train_sf)\n",
        "\n",
        "y_pred_ts=clfIF.predict(X_test_sf)\n",
        "end=datetime.datetime.now()\n",
        "print (end-start)"
      ],
      "execution_count": null,
      "outputs": [
        {
          "output_type": "stream",
          "text": [
            "0:00:05.026911\n"
          ],
          "name": "stdout"
        }
      ]
    },
    {
      "cell_type": "markdown",
      "metadata": {
        "id": "e9rFoEuVnr6r"
      },
      "source": [
        "**classification reports**"
      ]
    },
    {
      "cell_type": "code",
      "metadata": {
        "colab": {
          "base_uri": "https://localhost:8080/"
        },
        "id": "SGBn-0GsxU7x",
        "outputId": "fb0a84b4-0964-4f63-99c1-cd3a7a4f2240"
      },
      "source": [
        "from sklearn.metrics import classification_report\n",
        "from sklearn.metrics import roc_auc_score\n",
        "from sklearn.metrics import accuracy_score\n",
        "\n",
        "print(\"classification score : \", accuracy_score(y_test_sf, y_pred_ts))\n",
        "\n",
        "print(\"classification error : \", 1-accuracy_score(y_test_sf, y_pred_ts))\n",
        "\n",
        "print(\"\\n\\nclassification report ::\\n\",classification_report(y_test_sf,y_pred_ts))\n",
        "print (\"\\n\\nAUC: \", \"{:.1%}\".format(roc_auc_score(y_test_sf, y_pred_ts)))"
      ],
      "execution_count": null,
      "outputs": [
        {
          "output_type": "stream",
          "text": [
            "classification score :  0.8379742645537672\n",
            "classification error :  0.16202573544623278\n",
            "\n",
            "\n",
            "classification report ::\n",
            "               precision    recall  f1-score   support\n",
            "\n",
            "          -1       0.11      0.36      0.17      1073\n",
            "           1       0.97      0.86      0.91     23096\n",
            "\n",
            "    accuracy                           0.84     24169\n",
            "   macro avg       0.54      0.61      0.54     24169\n",
            "weighted avg       0.93      0.84      0.88     24169\n",
            "\n",
            "\n",
            "\n",
            "AUC:  61.0%\n"
          ],
          "name": "stdout"
        }
      ]
    },
    {
      "cell_type": "markdown",
      "metadata": {
        "id": "7W7kONiLnomm"
      },
      "source": [
        "**confusin matrix**"
      ]
    },
    {
      "cell_type": "code",
      "metadata": {
        "colab": {
          "base_uri": "https://localhost:8080/",
          "height": 562
        },
        "id": "677pg7dobNVz",
        "outputId": "72354a4e-f6cd-4053-e27d-49939ce580d9"
      },
      "source": [
        "!pip install scikit-plot\n",
        "import scikitplot as skplt\n",
        "skplt.metrics.plot_confusion_matrix(y_test_sf.values, y_pred_ts ,labels=[1,-1])# -1 is anamoly and 1 is normal as target variable defined."
      ],
      "execution_count": null,
      "outputs": [
        {
          "output_type": "stream",
          "text": [
            "Collecting scikit-plot\n",
            "  Downloading https://files.pythonhosted.org/packages/7c/47/32520e259340c140a4ad27c1b97050dd3254fdc517b1d59974d47037510e/scikit_plot-0.3.7-py3-none-any.whl\n",
            "Requirement already satisfied: scikit-learn>=0.18 in /usr/local/lib/python3.7/dist-packages (from scikit-plot) (0.22.2.post1)\n",
            "Requirement already satisfied: joblib>=0.10 in /usr/local/lib/python3.7/dist-packages (from scikit-plot) (1.0.1)\n",
            "Requirement already satisfied: scipy>=0.9 in /usr/local/lib/python3.7/dist-packages (from scikit-plot) (1.4.1)\n",
            "Requirement already satisfied: matplotlib>=1.4.0 in /usr/local/lib/python3.7/dist-packages (from scikit-plot) (3.2.2)\n",
            "Requirement already satisfied: numpy>=1.11.0 in /usr/local/lib/python3.7/dist-packages (from scikit-learn>=0.18->scikit-plot) (1.19.5)\n",
            "Requirement already satisfied: python-dateutil>=2.1 in /usr/local/lib/python3.7/dist-packages (from matplotlib>=1.4.0->scikit-plot) (2.8.1)\n",
            "Requirement already satisfied: kiwisolver>=1.0.1 in /usr/local/lib/python3.7/dist-packages (from matplotlib>=1.4.0->scikit-plot) (1.3.1)\n",
            "Requirement already satisfied: cycler>=0.10 in /usr/local/lib/python3.7/dist-packages (from matplotlib>=1.4.0->scikit-plot) (0.10.0)\n",
            "Requirement already satisfied: pyparsing!=2.0.4,!=2.1.2,!=2.1.6,>=2.0.1 in /usr/local/lib/python3.7/dist-packages (from matplotlib>=1.4.0->scikit-plot) (2.4.7)\n",
            "Requirement already satisfied: six>=1.5 in /usr/local/lib/python3.7/dist-packages (from python-dateutil>=2.1->matplotlib>=1.4.0->scikit-plot) (1.15.0)\n",
            "Installing collected packages: scikit-plot\n",
            "Successfully installed scikit-plot-0.3.7\n"
          ],
          "name": "stdout"
        },
        {
          "output_type": "execute_result",
          "data": {
            "text/plain": [
              "<matplotlib.axes._subplots.AxesSubplot at 0x7fa62b1b8810>"
            ]
          },
          "metadata": {
            "tags": []
          },
          "execution_count": 14
        },
        {
          "output_type": "display_data",
          "data": {
            "image/png": "[encoded data removed]",
            "text/plain": [
              "<Figure size 432x288 with 2 Axes>"
            ]
          },
          "metadata": {
            "tags": [],
            "needs_background": "light"
          }
        }
      ]
    },
    {
      "cell_type": "markdown",
      "metadata": {
        "id": "KyTbgrdln3FP"
      },
      "source": [
        "\n",
        "**More efficient parameter tuning using GridSearchCV**\n",
        "\n",
        "Searching multiple parameters simultaneously"
      ]
    },
    {
      "cell_type": "code",
      "metadata": {
        "colab": {
          "base_uri": "https://localhost:8080/"
        },
        "id": "PlReNGTHytL2",
        "outputId": "9028461d-0d03-4d7b-879e-aeed320515c8"
      },
      "source": [
        "from sklearn.metrics import  precision_recall_curve, make_scorer, recall_score, accuracy_score, precision_score, confusion_matrix\n",
        "import numpy as np\n",
        "\n",
        "start=datetime.datetime.now()\n",
        "\n",
        "max_samples=[0.40,0.45,0.50,0.55,0.60,0.65,0.70,0.80,0.85,0.90]\n",
        "anamoly_rate=format(float(anamoly_rate),\".3f\")\n",
        "contamination=np.linspace(float(anamoly_rate),0.20)\n",
        "\n",
        "contamination=list(set([round(i,2) for i in  contamination if round(i,2) > 0.04]))\n",
        "\n",
        "print(\"contamination : \",contamination)\n",
        "print(\"max_samples : \",max_samples)\n",
        "\n",
        "#defining scorers for model\n",
        "scorers = {\n",
        "    'precision_score': make_scorer(precision_score),\n",
        "    'recall_score': make_scorer(recall_score),\n",
        "    'accuracy_score': make_scorer(accuracy_score)\n",
        "}\n",
        "\n",
        "param_grid=dict(max_samples=max_samples,contamination=contamination)\n",
        "print(param_grid)\n",
        "\n",
        "from sklearn.model_selection import GridSearchCV\n",
        "\n",
        "refit_score='recall_score' #this is to make sure best parameter is chosen such that it gives highest recall value\n",
        "grid = GridSearchCV(clfIF, param_grid, cv=10, scoring=scorers,refit=refit_score)\n",
        "grid.fit(X_train_sf,y_train_sf)\n",
        "end=datetime.datetime.now()\n",
        "\n",
        "print(\"\\n\\ntotal time for trainin is ,\",end)"
      ],
      "execution_count": null,
      "outputs": [
        {
          "output_type": "stream",
          "text": [
            "contamination :  [0.05, 0.07, 0.09, 0.08, 0.06, 0.1, 0.11, 0.12, 0.13, 0.14, 0.15, 0.17, 0.19, 0.18, 0.2, 0.16]\n",
            "max_samples :  [0.4, 0.45, 0.5, 0.55, 0.6, 0.65, 0.7, 0.8, 0.85, 0.9]\n",
            "{'max_samples': [0.4, 0.45, 0.5, 0.55, 0.6, 0.65, 0.7, 0.8, 0.85, 0.9], 'contamination': [0.05, 0.07, 0.09, 0.08, 0.06, 0.1, 0.11, 0.12, 0.13, 0.14, 0.15, 0.17, 0.19, 0.18, 0.2, 0.16]}\n",
            "\n",
            "\n",
            "total time for trainin is , 2021-05-25 18:07:46.916659\n"
          ],
          "name": "stdout"
        }
      ]
    },
    {
      "cell_type": "code",
      "metadata": {
        "colab": {
          "base_uri": "https://localhost:8080/"
        },
        "id": "a2VAAmNFuWjS",
        "outputId": "dc319489-10b2-42bf-9955-b5bd4dae04f4"
      },
      "source": [
        "print(\"total time required for training is \",end-start)"
      ],
      "execution_count": null,
      "outputs": [
        {
          "output_type": "stream",
          "text": [
            "total time required for training is  1:29:02.810374\n"
          ],
          "name": "stdout"
        }
      ]
    },
    {
      "cell_type": "markdown",
      "metadata": {
        "id": "yGeY7CPavvWZ"
      },
      "source": [
        "**best parameters after grid search**"
      ]
    },
    {
      "cell_type": "code",
      "metadata": {
        "colab": {
          "base_uri": "https://localhost:8080/"
        },
        "id": "8cBRn7tIvqVq",
        "outputId": "8c8fba00-3b98-4f8a-c993-6e222de7b7c5"
      },
      "source": [
        "print(grid.best_score_) #this is for best recall_score as refit_score was recall_score\n",
        "print(grid.best_params_)\n",
        "print(grid.best_estimator_)"
      ],
      "execution_count": null,
      "outputs": [
        {
          "output_type": "stream",
          "text": [
            "0.9541455227226306\n",
            "{'contamination': 0.05, 'max_samples': 0.5}\n",
            "IsolationForest(behaviour='deprecated', bootstrap=False, contamination=0.05,\n",
            "                max_features=1.0, max_samples=0.5, n_estimators=100, n_jobs=-1,\n",
            "                random_state=11, verbose=0, warm_start=False)\n"
          ],
          "name": "stdout"
        }
      ]
    },
    {
      "cell_type": "markdown",
      "metadata": {
        "id": "e9zo8eG1ef8S"
      },
      "source": [
        "**Using the best parameters to make predictions**"
      ]
    },
    {
      "cell_type": "markdown",
      "metadata": {
        "id": "fDrncpe7zO4H"
      },
      "source": [
        "**Classification Accuracy** Overall, how often is the classifier correct?\n",
        "\n",
        "\n",
        "\n",
        "**Classification Error:** Overall, how often is the classifier incorrect?\n",
        "\n",
        "\n",
        "**Sensitivity:** When the actual value is positive, how often is the prediction correct?\n",
        "Also known as \"True Positive Rate\" or ***Recall***\n",
        "\n",
        "\n",
        "\n",
        "**Specificity**: When the actual value is negative, how often is the prediction correct?\n",
        "\n",
        "\n",
        "\n",
        "**Precision**: When a positive value is predicted, how often is the prediction correct?\n"
      ]
    },
    {
      "cell_type": "code",
      "metadata": {
        "colab": {
          "base_uri": "https://localhost:8080/",
          "height": 473
        },
        "id": "Mkv6KUNo4FnJ",
        "outputId": "5132cae8-b7c0-4075-886e-c36d45c36271"
      },
      "source": [
        "print('Best params for {}'.format(refit_score))\n",
        "print(grid.best_params_)\n",
        "\n",
        "print(\"\\nrecall score:\",grid.best_score_)\n",
        "\n",
        "print(\"\\ntraining with best parametrs that grid search has found\\n\")\n",
        "clfIF = IsolationForest(max_samples=0.5, random_state=11, contamination =  0.05, n_estimators=100, n_jobs=-1)\n",
        "clfIF.fit(X_train_sf,y_train_sf)\n",
        "\n",
        "#y_pred = grid.predict(X_test_sf), same as below, grid has now best parameters saved\n",
        "y_pred_ts=clfIF.predict(X_test_sf)\n",
        "\n",
        "print(\"classification score : \", accuracy_score(y_test_sf, y_pred_ts))\n",
        "\n",
        "print(\"classification error : \", 1-accuracy_score(y_test_sf, y_pred_ts))\n",
        "\n",
        "skplt.metrics.plot_confusion_matrix(y_test_sf.values, y_pred_ts ,labels=[1,-1])"
      ],
      "execution_count": null,
      "outputs": [
        {
          "output_type": "stream",
          "text": [
            "Best params for recall_score\n",
            "{'contamination': 0.05, 'max_samples': 0.5}\n",
            "\n",
            "recall score: 0.9541455227226306\n",
            "\n",
            "training with best parametrs that grid search has found\n",
            "\n",
            "classification score :  0.9184492531755555\n",
            "classification error :  0.08155074682444452\n"
          ],
          "name": "stdout"
        },
        {
          "output_type": "execute_result",
          "data": {
            "text/plain": [
              "<matplotlib.axes._subplots.AxesSubplot at 0x7fa62b149b90>"
            ]
          },
          "metadata": {
            "tags": []
          },
          "execution_count": 37
        },
        {
          "output_type": "display_data",
          "data": {
            "image/png": "[encoded data removed]",
            "text/plain": [
              "<Figure size 432x288 with 2 Axes>"
            ]
          },
          "metadata": {
            "tags": [],
            "needs_background": "light"
          }
        }
      ]
    },
    {
      "cell_type": "markdown",
      "metadata": {
        "id": "RtR6oLw8qJfn"
      },
      "source": [
        "**list of all parameters combination and mean test score by grid search**"
      ]
    },
    {
      "cell_type": "code",
      "metadata": {
        "colab": {
          "base_uri": "https://localhost:8080/",
          "height": 399
        },
        "id": "jT0m3gJikoEj",
        "outputId": "d5cffdbc-3b14-4404-e2d2-957f486e7432"
      },
      "source": [
        "results=pd.DataFrame(grid.cv_results_)\n",
        "results = results.sort_values(by='mean_test_recall_score', ascending=False)\n",
        "results[['mean_test_precision_score', 'mean_test_recall_score', 'mean_test_accuracy_score','params']]"
      ],
      "execution_count": null,
      "outputs": [
        {
          "output_type": "execute_result",
          "data": {
            "text/html": [
              "<div>\n",
              "<style scoped>\n",
              "    .dataframe tbody tr th:only-of-type {\n",
              "        vertical-align: middle;\n",
              "    }\n",
              "\n",
              "    .dataframe tbody tr th {\n",
              "        vertical-align: top;\n",
              "    }\n",
              "\n",
              "    .dataframe thead th {\n",
              "        text-align: right;\n",
              "    }\n",
              "</style>\n",
              "<table border=\"1\" class=\"dataframe\">\n",
              "  <thead>\n",
              "    <tr style=\"text-align: right;\">\n",
              "      <th></th>\n",
              "      <th>mean_test_precision_score</th>\n",
              "      <th>mean_test_recall_score</th>\n",
              "      <th>mean_test_accuracy_score</th>\n",
              "      <th>params</th>\n",
              "    </tr>\n",
              "  </thead>\n",
              "  <tbody>\n",
              "    <tr>\n",
              "      <th>2</th>\n",
              "      <td>0.960152</td>\n",
              "      <td>0.954146</td>\n",
              "      <td>0.918419</td>\n",
              "      <td>{'contamination': 0.05, 'max_samples': 0.5}</td>\n",
              "    </tr>\n",
              "    <tr>\n",
              "      <th>0</th>\n",
              "      <td>0.960235</td>\n",
              "      <td>0.954145</td>\n",
              "      <td>0.918501</td>\n",
              "      <td>{'contamination': 0.05, 'max_samples': 0.4}</td>\n",
              "    </tr>\n",
              "    <tr>\n",
              "      <th>5</th>\n",
              "      <td>0.959874</td>\n",
              "      <td>0.953911</td>\n",
              "      <td>0.917930</td>\n",
              "      <td>{'contamination': 0.05, 'max_samples': 0.65}</td>\n",
              "    </tr>\n",
              "    <tr>\n",
              "      <th>1</th>\n",
              "      <td>0.959951</td>\n",
              "      <td>0.953761</td>\n",
              "      <td>0.917869</td>\n",
              "      <td>{'contamination': 0.05, 'max_samples': 0.45}</td>\n",
              "    </tr>\n",
              "    <tr>\n",
              "      <th>4</th>\n",
              "      <td>0.959847</td>\n",
              "      <td>0.953718</td>\n",
              "      <td>0.917726</td>\n",
              "      <td>{'contamination': 0.05, 'max_samples': 0.6}</td>\n",
              "    </tr>\n",
              "    <tr>\n",
              "      <th>...</th>\n",
              "      <td>...</td>\n",
              "      <td>...</td>\n",
              "      <td>...</td>\n",
              "      <td>...</td>\n",
              "    </tr>\n",
              "    <tr>\n",
              "      <th>147</th>\n",
              "      <td>0.964170</td>\n",
              "      <td>0.807103</td>\n",
              "      <td>0.787214</td>\n",
              "      <td>{'contamination': 0.2, 'max_samples': 0.8}</td>\n",
              "    </tr>\n",
              "    <tr>\n",
              "      <th>145</th>\n",
              "      <td>0.964157</td>\n",
              "      <td>0.806826</td>\n",
              "      <td>0.786949</td>\n",
              "      <td>{'contamination': 0.2, 'max_samples': 0.65}</td>\n",
              "    </tr>\n",
              "    <tr>\n",
              "      <th>146</th>\n",
              "      <td>0.964152</td>\n",
              "      <td>0.806655</td>\n",
              "      <td>0.786786</td>\n",
              "      <td>{'contamination': 0.2, 'max_samples': 0.7}</td>\n",
              "    </tr>\n",
              "    <tr>\n",
              "      <th>148</th>\n",
              "      <td>0.964121</td>\n",
              "      <td>0.806013</td>\n",
              "      <td>0.786174</td>\n",
              "      <td>{'contamination': 0.2, 'max_samples': 0.85}</td>\n",
              "    </tr>\n",
              "    <tr>\n",
              "      <th>149</th>\n",
              "      <td>0.964115</td>\n",
              "      <td>0.805908</td>\n",
              "      <td>0.786072</td>\n",
              "      <td>{'contamination': 0.2, 'max_samples': 0.9}</td>\n",
              "    </tr>\n",
              "  </tbody>\n",
              "</table>\n",
              "<p>160 rows × 4 columns</p>\n",
              "</div>"
            ],
            "text/plain": [
              "     mean_test_precision_score  ...                                        params\n",
              "2                     0.960152  ...   {'contamination': 0.05, 'max_samples': 0.5}\n",
              "0                     0.960235  ...   {'contamination': 0.05, 'max_samples': 0.4}\n",
              "5                     0.959874  ...  {'contamination': 0.05, 'max_samples': 0.65}\n",
              "1                     0.959951  ...  {'contamination': 0.05, 'max_samples': 0.45}\n",
              "4                     0.959847  ...   {'contamination': 0.05, 'max_samples': 0.6}\n",
              "..                         ...  ...                                           ...\n",
              "147                   0.964170  ...    {'contamination': 0.2, 'max_samples': 0.8}\n",
              "145                   0.964157  ...   {'contamination': 0.2, 'max_samples': 0.65}\n",
              "146                   0.964152  ...    {'contamination': 0.2, 'max_samples': 0.7}\n",
              "148                   0.964121  ...   {'contamination': 0.2, 'max_samples': 0.85}\n",
              "149                   0.964115  ...    {'contamination': 0.2, 'max_samples': 0.9}\n",
              "\n",
              "[160 rows x 4 columns]"
            ]
          },
          "metadata": {
            "tags": []
          },
          "execution_count": 35
        }
      ]
    },
    {
      "cell_type": "markdown",
      "metadata": {
        "id": "Wrd_WzX8qxo6"
      },
      "source": [
        "Sensitivity and specificity are inversely proportional, meaning that as the sensitivity increases, the specificity decreases and vice versa."
      ]
    },
    {
      "cell_type": "markdown",
      "metadata": {
        "id": "2MdkwFoZ2JnU"
      },
      "source": [
        "**trying to get maximum anamolies detected**\n",
        "\n",
        "\n",
        "Isolation forest works on the principle of the decision tree algorithm. It isolates the outliers by randomly selecting a feature from the given set of features and then randomly selecting a split value between the maximum and minimum values of the selected feature. This random partitioning of features will produce smaller paths in trees for the anomalous data values and distinguish them from the normal set of the data.\n",
        "\n",
        "so as per this defination trying to take minimum number of samples to detect outlier easilly"
      ]
    },
    {
      "cell_type": "code",
      "metadata": {
        "colab": {
          "base_uri": "https://localhost:8080/",
          "height": 348
        },
        "id": "6p4Z1FSoz8Qw",
        "outputId": "0e167dcb-a35e-4691-89d3-1456de3fb821"
      },
      "source": [
        "#testing accuracy with below parametrs\n",
        "clfIF = IsolationForest(max_samples=0.20, random_state=11, contamination =  0.20, n_estimators=100, n_jobs=-1)\n",
        "clfIF.fit(X_train_sf,y_train_sf)\n",
        "\n",
        "#y_pred = grid.predict(X_test_sf), same as below, grid has now best parameters saved\n",
        "y_pred_ts=clfIF.predict(X_test_sf)\n",
        "\n",
        "print(\"classification score : \", accuracy_score(y_test_sf, y_pred_ts))\n",
        "\n",
        "print(\"classification error : \", 1-accuracy_score(y_test_sf, y_pred_ts))\n",
        "\n",
        "skplt.metrics.plot_confusion_matrix(y_test_sf.values, y_pred_ts ,labels=[1,-1])"
      ],
      "execution_count": null,
      "outputs": [
        {
          "output_type": "stream",
          "text": [
            "classification score :  0.8453804460259009\n",
            "classification error :  0.1546195539740991\n"
          ],
          "name": "stdout"
        },
        {
          "output_type": "execute_result",
          "data": {
            "text/plain": [
              "<matplotlib.axes._subplots.AxesSubplot at 0x7fa64560ed50>"
            ]
          },
          "metadata": {
            "tags": []
          },
          "execution_count": 50
        },
        {
          "output_type": "display_data",
          "data": {
            "image/png": "[encoded data removed]",
            "text/plain": [
              "<Figure size 432x288 with 2 Axes>"
            ]
          },
          "metadata": {
            "tags": [],
            "needs_background": "light"
          }
        }
      ]
    },
    {
      "cell_type": "code",
      "metadata": {
        "colab": {
          "base_uri": "https://localhost:8080/",
          "height": 348
        },
        "id": "4Ky1bEJt1wih",
        "outputId": "e5b7ba47-ed64-4a23-ac5d-fc1c2d981caa"
      },
      "source": [
        "#training accuracy with below parametrs\n",
        "clfIF = IsolationForest(max_samples=0.20, random_state=11, contamination =  0.20, n_estimators=100, n_jobs=-1)\n",
        "clfIF.fit(X_train_sf,y_train_sf)\n",
        "\n",
        "#y_pred = grid.predict(X_test_sf), same as below, grid has now best parameters saved\n",
        "y_pred_ts=clfIF.predict(X_train_sf)\n",
        "\n",
        "print(\"classification score : \", accuracy_score(y_train_sf, y_pred_ts))\n",
        "\n",
        "print(\"classification error : \", 1-accuracy_score(y_train_sf, y_pred_ts))\n",
        "\n",
        "skplt.metrics.plot_confusion_matrix(y_train_sf.values, y_pred_ts ,labels=[1,-1])"
      ],
      "execution_count": null,
      "outputs": [
        {
          "output_type": "stream",
          "text": [
            "classification score :  0.845337083231434\n",
            "classification error :  0.15466291676856603\n"
          ],
          "name": "stdout"
        },
        {
          "output_type": "execute_result",
          "data": {
            "text/plain": [
              "<matplotlib.axes._subplots.AxesSubplot at 0x7fa63e010e50>"
            ]
          },
          "metadata": {
            "tags": []
          },
          "execution_count": 51
        },
        {
          "output_type": "display_data",
          "data": {
            "image/png": "[encoded data removed]",
            "text/plain": [
              "<Figure size 432x288 with 2 Axes>"
            ]
          },
          "metadata": {
            "tags": [],
            "needs_background": "light"
          }
        }
      ]
    }
  ]
}