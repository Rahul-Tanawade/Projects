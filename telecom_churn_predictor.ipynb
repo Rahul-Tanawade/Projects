{
  "nbformat": 4,
  "nbformat_minor": 0,
  "metadata": {
    "colab": {
      "name": "telecom churn predictor.ipynb",
      "provenance": [],
      "collapsed_sections": [],
      "authorship_tag": "ABX9TyP0dpz9EtR6USiIi2R5YRZq",
      "include_colab_link": true
    },
    "kernelspec": {
      "name": "python3",
      "display_name": "Python 3"
    },
    "language_info": {
      "name": "python"
    }
  },
  "cells": [
    {
      "cell_type": "markdown",
      "metadata": {
        "id": "view-in-github",
        "colab_type": "text"
      },
      "source": [
        "<a href=\"https://colab.research.google.com/github/Rahul-Tanawade/Projects/blob/main/telecom_churn_predictor.ipynb\" target=\"_parent\"><img src=\"https://colab.research.google.com/assets/colab-badge.svg\" alt=\"Open In Colab\"/></a>"
      ]
    },
    {
      "cell_type": "markdown",
      "metadata": {
        "id": "nQOUtuoMr4_c"
      },
      "source": [
        "The **churn rate** also known as the rate of attrition or customer churn, is the rate at which customers stop doing business with an entity. It is most commonly expressed as the percentage of service subscribers who discontinue their subscriptions within a given time period."
      ]
    },
    {
      "cell_type": "markdown",
      "metadata": {
        "id": "ql4CS-32q3If"
      },
      "source": [
        "TASK : insight is needed to understand which customer is likely to stop using its telecom service from service provider.\n",
        "\n",
        "\n",
        "We will use a telecommunications data for predicting customer churn. This is a historical customer data where each row represents one customer. Typically it is less expensive to keep customers than acquire new ones, so the focus of this analysis is to predict the customers who will stay with the company."
      ]
    },
    {
      "cell_type": "markdown",
      "metadata": {
        "id": "TkY0MozzrHgx"
      },
      "source": [
        "\n",
        "\n",
        "\n",
        "This data set provides info to help you predict behavior to retain customers. You can analyze all relevant customer data and develop focused customer retention programs.\n",
        "\n",
        "The data set includes information about:\n",
        "\n",
        "Customers who left within the last month – the column is called Churn\n",
        "\n",
        "Services that each customer has signed up for – phone, multiple lines, internet, online security, online backup, device protection, tech support, and streaming TV and movies\n",
        "\n",
        "Customer account information – how long they’ve been a customer, contract, payment method, paperless billing, monthly charges, and total charges\n",
        "\n",
        "Demographic info about customers – gender, age range, and if they have partners and dependents"
      ]
    },
    {
      "cell_type": "markdown",
      "metadata": {
        "id": "KbineOO2Mji3"
      },
      "source": [
        "**import libraries needed**"
      ]
    },
    {
      "cell_type": "code",
      "metadata": {
        "id": "IKbwzZ8QqRTl",
        "colab": {
          "base_uri": "https://localhost:8080/"
        },
        "outputId": "51b9e82b-8c43-4d98-adc1-03ecb971fd05"
      },
      "source": [
        "import pandas as pd\n",
        "import pylab as pl\n",
        "import numpy as np\n",
        "from sklearn import preprocessing\n",
        "from sklearn.model_selection import train_test_split\n",
        "%matplotlib inline \n",
        "import matplotlib.pyplot as plt\n",
        "import warnings\n",
        "warnings.filterwarnings('ignore')\n",
        "\n",
        "!pip install scikit-plot\n",
        "import scikitplot as skplt\n",
        "\n"
      ],
      "execution_count": null,
      "outputs": [
        {
          "output_type": "stream",
          "text": [
            "Requirement already satisfied: scikit-plot in /usr/local/lib/python3.7/dist-packages (0.3.7)\n",
            "Requirement already satisfied: scikit-learn>=0.18 in /usr/local/lib/python3.7/dist-packages (from scikit-plot) (0.22.2.post1)\n",
            "Requirement already satisfied: matplotlib>=1.4.0 in /usr/local/lib/python3.7/dist-packages (from scikit-plot) (3.2.2)\n",
            "Requirement already satisfied: joblib>=0.10 in /usr/local/lib/python3.7/dist-packages (from scikit-plot) (1.0.1)\n",
            "Requirement already satisfied: scipy>=0.9 in /usr/local/lib/python3.7/dist-packages (from scikit-plot) (1.4.1)\n",
            "Requirement already satisfied: numpy>=1.11.0 in /usr/local/lib/python3.7/dist-packages (from scikit-learn>=0.18->scikit-plot) (1.19.5)\n",
            "Requirement already satisfied: kiwisolver>=1.0.1 in /usr/local/lib/python3.7/dist-packages (from matplotlib>=1.4.0->scikit-plot) (1.3.1)\n",
            "Requirement already satisfied: python-dateutil>=2.1 in /usr/local/lib/python3.7/dist-packages (from matplotlib>=1.4.0->scikit-plot) (2.8.1)\n",
            "Requirement already satisfied: cycler>=0.10 in /usr/local/lib/python3.7/dist-packages (from matplotlib>=1.4.0->scikit-plot) (0.10.0)\n",
            "Requirement already satisfied: pyparsing!=2.0.4,!=2.1.2,!=2.1.6,>=2.0.1 in /usr/local/lib/python3.7/dist-packages (from matplotlib>=1.4.0->scikit-plot) (2.4.7)\n",
            "Requirement already satisfied: six>=1.5 in /usr/local/lib/python3.7/dist-packages (from python-dateutil>=2.1->matplotlib>=1.4.0->scikit-plot) (1.15.0)\n"
          ],
          "name": "stdout"
        }
      ]
    },
    {
      "cell_type": "markdown",
      "metadata": {
        "id": "Cskk_qbdwXiC"
      },
      "source": [
        "**load file saved in local desktop**"
      ]
    },
    {
      "cell_type": "code",
      "metadata": {
        "colab": {
          "resources": {
            "http://localhost:8080/nbextensions/google.colab/files.js": {
              "data": "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",
              "ok": true,
              "headers": [
                [
                  "content-type",
                  "application/javascript"
                ]
              ],
              "status": 200,
              "status_text": ""
            }
          },
          "base_uri": "https://localhost:8080/",
          "height": 73
        },
        "id": "No4deiYctPGl",
        "outputId": "49ea2839-e6f0-448c-d323-dff3ef6ec25b"
      },
      "source": [
        "from google.colab import files\n",
        "import numpy as np\n",
        "import io\n",
        "uploaded=files.upload()\n"
      ],
      "execution_count": null,
      "outputs": [
        {
          "output_type": "display_data",
          "data": {
            "text/html": [
              "\n",
              "     <input type=\"file\" id=\"files-2037e37c-a8d8-4769-b0d4-6816eb493ce8\" name=\"files[]\" multiple disabled\n",
              "        style=\"border:none\" />\n",
              "     <output id=\"result-2037e37c-a8d8-4769-b0d4-6816eb493ce8\">\n",
              "      Upload widget is only available when the cell has been executed in the\n",
              "      current browser session. Please rerun this cell to enable.\n",
              "      </output>\n",
              "      <script src=\"/nbextensions/google.colab/files.js\"></script> "
            ],
            "text/plain": [
              "<IPython.core.display.HTML object>"
            ]
          },
          "metadata": {
            "tags": []
          }
        },
        {
          "output_type": "stream",
          "text": [
            "Saving telco_churn.xlsx to telco_churn (1).xlsx\n"
          ],
          "name": "stdout"
        }
      ]
    },
    {
      "cell_type": "markdown",
      "metadata": {
        "id": "AcRCpGiywefc"
      },
      "source": [
        "**make dataframe of uploaded file**"
      ]
    },
    {
      "cell_type": "code",
      "metadata": {
        "id": "4jIM9zZ3uHzW"
      },
      "source": [
        "dataset = pd.read_excel(io.BytesIO(uploaded['telco_churn.xlsx']))"
      ],
      "execution_count": null,
      "outputs": []
    },
    {
      "cell_type": "code",
      "metadata": {
        "colab": {
          "base_uri": "https://localhost:8080/",
          "height": 419
        },
        "id": "adoLNEXOwR_l",
        "outputId": "50cd2eac-7cc5-423c-f3a5-641f591314fe"
      },
      "source": [
        "dataset"
      ],
      "execution_count": null,
      "outputs": [
        {
          "output_type": "execute_result",
          "data": {
            "text/html": [
              "<div>\n",
              "<style scoped>\n",
              "    .dataframe tbody tr th:only-of-type {\n",
              "        vertical-align: middle;\n",
              "    }\n",
              "\n",
              "    .dataframe tbody tr th {\n",
              "        vertical-align: top;\n",
              "    }\n",
              "\n",
              "    .dataframe thead th {\n",
              "        text-align: right;\n",
              "    }\n",
              "</style>\n",
              "<table border=\"1\" class=\"dataframe\">\n",
              "  <thead>\n",
              "    <tr style=\"text-align: right;\">\n",
              "      <th></th>\n",
              "      <th>tenure</th>\n",
              "      <th>age</th>\n",
              "      <th>address</th>\n",
              "      <th>income</th>\n",
              "      <th>ed</th>\n",
              "      <th>employ</th>\n",
              "      <th>equip</th>\n",
              "      <th>callcard</th>\n",
              "      <th>wireless</th>\n",
              "      <th>longmon</th>\n",
              "      <th>tollmon</th>\n",
              "      <th>equipmon</th>\n",
              "      <th>cardmon</th>\n",
              "      <th>wiremon</th>\n",
              "      <th>longten</th>\n",
              "      <th>tollten</th>\n",
              "      <th>cardten</th>\n",
              "      <th>voice</th>\n",
              "      <th>pager</th>\n",
              "      <th>internet</th>\n",
              "      <th>callwait</th>\n",
              "      <th>confer</th>\n",
              "      <th>ebill</th>\n",
              "      <th>loglong</th>\n",
              "      <th>logtoll</th>\n",
              "      <th>lninc</th>\n",
              "      <th>custcat</th>\n",
              "      <th>churn</th>\n",
              "    </tr>\n",
              "  </thead>\n",
              "  <tbody>\n",
              "    <tr>\n",
              "      <th>0</th>\n",
              "      <td>11</td>\n",
              "      <td>33</td>\n",
              "      <td>7</td>\n",
              "      <td>136</td>\n",
              "      <td>5</td>\n",
              "      <td>5</td>\n",
              "      <td>0</td>\n",
              "      <td>1</td>\n",
              "      <td>1</td>\n",
              "      <td>4.40</td>\n",
              "      <td>20.75</td>\n",
              "      <td>0.00</td>\n",
              "      <td>15.25</td>\n",
              "      <td>35.7</td>\n",
              "      <td>42.00</td>\n",
              "      <td>211.45</td>\n",
              "      <td>125.0</td>\n",
              "      <td>1</td>\n",
              "      <td>1</td>\n",
              "      <td>0</td>\n",
              "      <td>1</td>\n",
              "      <td>1</td>\n",
              "      <td>0</td>\n",
              "      <td>1.482</td>\n",
              "      <td>3.033</td>\n",
              "      <td>4.913</td>\n",
              "      <td>4</td>\n",
              "      <td>1</td>\n",
              "    </tr>\n",
              "    <tr>\n",
              "      <th>1</th>\n",
              "      <td>33</td>\n",
              "      <td>33</td>\n",
              "      <td>12</td>\n",
              "      <td>33</td>\n",
              "      <td>2</td>\n",
              "      <td>0</td>\n",
              "      <td>0</td>\n",
              "      <td>0</td>\n",
              "      <td>0</td>\n",
              "      <td>9.45</td>\n",
              "      <td>0.00</td>\n",
              "      <td>0.00</td>\n",
              "      <td>0.00</td>\n",
              "      <td>0.0</td>\n",
              "      <td>288.80</td>\n",
              "      <td>0.00</td>\n",
              "      <td>0.0</td>\n",
              "      <td>0</td>\n",
              "      <td>0</td>\n",
              "      <td>0</td>\n",
              "      <td>0</td>\n",
              "      <td>0</td>\n",
              "      <td>0</td>\n",
              "      <td>2.246</td>\n",
              "      <td>3.240</td>\n",
              "      <td>3.497</td>\n",
              "      <td>1</td>\n",
              "      <td>1</td>\n",
              "    </tr>\n",
              "    <tr>\n",
              "      <th>2</th>\n",
              "      <td>23</td>\n",
              "      <td>30</td>\n",
              "      <td>9</td>\n",
              "      <td>30</td>\n",
              "      <td>1</td>\n",
              "      <td>2</td>\n",
              "      <td>0</td>\n",
              "      <td>0</td>\n",
              "      <td>0</td>\n",
              "      <td>6.30</td>\n",
              "      <td>0.00</td>\n",
              "      <td>0.00</td>\n",
              "      <td>0.00</td>\n",
              "      <td>0.0</td>\n",
              "      <td>157.05</td>\n",
              "      <td>0.00</td>\n",
              "      <td>0.0</td>\n",
              "      <td>0</td>\n",
              "      <td>0</td>\n",
              "      <td>0</td>\n",
              "      <td>0</td>\n",
              "      <td>1</td>\n",
              "      <td>0</td>\n",
              "      <td>1.841</td>\n",
              "      <td>3.240</td>\n",
              "      <td>3.401</td>\n",
              "      <td>3</td>\n",
              "      <td>0</td>\n",
              "    </tr>\n",
              "    <tr>\n",
              "      <th>3</th>\n",
              "      <td>38</td>\n",
              "      <td>35</td>\n",
              "      <td>5</td>\n",
              "      <td>76</td>\n",
              "      <td>2</td>\n",
              "      <td>10</td>\n",
              "      <td>1</td>\n",
              "      <td>1</td>\n",
              "      <td>1</td>\n",
              "      <td>6.05</td>\n",
              "      <td>45.00</td>\n",
              "      <td>50.10</td>\n",
              "      <td>23.25</td>\n",
              "      <td>64.9</td>\n",
              "      <td>239.55</td>\n",
              "      <td>1873.05</td>\n",
              "      <td>880.0</td>\n",
              "      <td>1</td>\n",
              "      <td>1</td>\n",
              "      <td>1</td>\n",
              "      <td>1</td>\n",
              "      <td>1</td>\n",
              "      <td>1</td>\n",
              "      <td>1.800</td>\n",
              "      <td>3.807</td>\n",
              "      <td>4.331</td>\n",
              "      <td>4</td>\n",
              "      <td>0</td>\n",
              "    </tr>\n",
              "    <tr>\n",
              "      <th>4</th>\n",
              "      <td>7</td>\n",
              "      <td>35</td>\n",
              "      <td>14</td>\n",
              "      <td>80</td>\n",
              "      <td>2</td>\n",
              "      <td>15</td>\n",
              "      <td>0</td>\n",
              "      <td>1</td>\n",
              "      <td>0</td>\n",
              "      <td>7.10</td>\n",
              "      <td>22.00</td>\n",
              "      <td>0.00</td>\n",
              "      <td>23.75</td>\n",
              "      <td>0.0</td>\n",
              "      <td>47.45</td>\n",
              "      <td>166.10</td>\n",
              "      <td>145.0</td>\n",
              "      <td>1</td>\n",
              "      <td>0</td>\n",
              "      <td>0</td>\n",
              "      <td>1</td>\n",
              "      <td>1</td>\n",
              "      <td>0</td>\n",
              "      <td>1.960</td>\n",
              "      <td>3.091</td>\n",
              "      <td>4.382</td>\n",
              "      <td>3</td>\n",
              "      <td>0</td>\n",
              "    </tr>\n",
              "    <tr>\n",
              "      <th>...</th>\n",
              "      <td>...</td>\n",
              "      <td>...</td>\n",
              "      <td>...</td>\n",
              "      <td>...</td>\n",
              "      <td>...</td>\n",
              "      <td>...</td>\n",
              "      <td>...</td>\n",
              "      <td>...</td>\n",
              "      <td>...</td>\n",
              "      <td>...</td>\n",
              "      <td>...</td>\n",
              "      <td>...</td>\n",
              "      <td>...</td>\n",
              "      <td>...</td>\n",
              "      <td>...</td>\n",
              "      <td>...</td>\n",
              "      <td>...</td>\n",
              "      <td>...</td>\n",
              "      <td>...</td>\n",
              "      <td>...</td>\n",
              "      <td>...</td>\n",
              "      <td>...</td>\n",
              "      <td>...</td>\n",
              "      <td>...</td>\n",
              "      <td>...</td>\n",
              "      <td>...</td>\n",
              "      <td>...</td>\n",
              "      <td>...</td>\n",
              "    </tr>\n",
              "    <tr>\n",
              "      <th>195</th>\n",
              "      <td>55</td>\n",
              "      <td>44</td>\n",
              "      <td>24</td>\n",
              "      <td>83</td>\n",
              "      <td>1</td>\n",
              "      <td>23</td>\n",
              "      <td>0</td>\n",
              "      <td>1</td>\n",
              "      <td>0</td>\n",
              "      <td>17.35</td>\n",
              "      <td>24.50</td>\n",
              "      <td>0.00</td>\n",
              "      <td>14.25</td>\n",
              "      <td>0.0</td>\n",
              "      <td>973.10</td>\n",
              "      <td>1343.50</td>\n",
              "      <td>720.0</td>\n",
              "      <td>0</td>\n",
              "      <td>0</td>\n",
              "      <td>0</td>\n",
              "      <td>0</td>\n",
              "      <td>1</td>\n",
              "      <td>0</td>\n",
              "      <td>2.854</td>\n",
              "      <td>3.199</td>\n",
              "      <td>4.419</td>\n",
              "      <td>3</td>\n",
              "      <td>0</td>\n",
              "    </tr>\n",
              "    <tr>\n",
              "      <th>196</th>\n",
              "      <td>34</td>\n",
              "      <td>23</td>\n",
              "      <td>3</td>\n",
              "      <td>24</td>\n",
              "      <td>1</td>\n",
              "      <td>7</td>\n",
              "      <td>0</td>\n",
              "      <td>1</td>\n",
              "      <td>0</td>\n",
              "      <td>6.00</td>\n",
              "      <td>28.00</td>\n",
              "      <td>0.00</td>\n",
              "      <td>12.75</td>\n",
              "      <td>0.0</td>\n",
              "      <td>203.25</td>\n",
              "      <td>959.40</td>\n",
              "      <td>435.0</td>\n",
              "      <td>0</td>\n",
              "      <td>0</td>\n",
              "      <td>0</td>\n",
              "      <td>1</td>\n",
              "      <td>1</td>\n",
              "      <td>0</td>\n",
              "      <td>1.792</td>\n",
              "      <td>3.332</td>\n",
              "      <td>3.178</td>\n",
              "      <td>3</td>\n",
              "      <td>0</td>\n",
              "    </tr>\n",
              "    <tr>\n",
              "      <th>197</th>\n",
              "      <td>6</td>\n",
              "      <td>32</td>\n",
              "      <td>10</td>\n",
              "      <td>47</td>\n",
              "      <td>1</td>\n",
              "      <td>10</td>\n",
              "      <td>0</td>\n",
              "      <td>1</td>\n",
              "      <td>0</td>\n",
              "      <td>3.85</td>\n",
              "      <td>23.75</td>\n",
              "      <td>0.00</td>\n",
              "      <td>12.50</td>\n",
              "      <td>0.0</td>\n",
              "      <td>29.90</td>\n",
              "      <td>128.45</td>\n",
              "      <td>80.0</td>\n",
              "      <td>0</td>\n",
              "      <td>0</td>\n",
              "      <td>0</td>\n",
              "      <td>1</td>\n",
              "      <td>1</td>\n",
              "      <td>0</td>\n",
              "      <td>1.348</td>\n",
              "      <td>3.168</td>\n",
              "      <td>3.850</td>\n",
              "      <td>3</td>\n",
              "      <td>0</td>\n",
              "    </tr>\n",
              "    <tr>\n",
              "      <th>198</th>\n",
              "      <td>24</td>\n",
              "      <td>30</td>\n",
              "      <td>0</td>\n",
              "      <td>25</td>\n",
              "      <td>4</td>\n",
              "      <td>5</td>\n",
              "      <td>0</td>\n",
              "      <td>1</td>\n",
              "      <td>1</td>\n",
              "      <td>8.70</td>\n",
              "      <td>47.75</td>\n",
              "      <td>0.00</td>\n",
              "      <td>32.75</td>\n",
              "      <td>64.0</td>\n",
              "      <td>186.60</td>\n",
              "      <td>1152.90</td>\n",
              "      <td>780.0</td>\n",
              "      <td>1</td>\n",
              "      <td>1</td>\n",
              "      <td>1</td>\n",
              "      <td>1</td>\n",
              "      <td>1</td>\n",
              "      <td>1</td>\n",
              "      <td>2.163</td>\n",
              "      <td>3.866</td>\n",
              "      <td>3.219</td>\n",
              "      <td>4</td>\n",
              "      <td>1</td>\n",
              "    </tr>\n",
              "    <tr>\n",
              "      <th>199</th>\n",
              "      <td>61</td>\n",
              "      <td>50</td>\n",
              "      <td>16</td>\n",
              "      <td>190</td>\n",
              "      <td>2</td>\n",
              "      <td>22</td>\n",
              "      <td>1</td>\n",
              "      <td>1</td>\n",
              "      <td>1</td>\n",
              "      <td>16.85</td>\n",
              "      <td>0.00</td>\n",
              "      <td>42.55</td>\n",
              "      <td>26.50</td>\n",
              "      <td>44.1</td>\n",
              "      <td>1063.15</td>\n",
              "      <td>0.00</td>\n",
              "      <td>1600.0</td>\n",
              "      <td>0</td>\n",
              "      <td>0</td>\n",
              "      <td>1</td>\n",
              "      <td>0</td>\n",
              "      <td>0</td>\n",
              "      <td>1</td>\n",
              "      <td>2.824</td>\n",
              "      <td>3.240</td>\n",
              "      <td>5.247</td>\n",
              "      <td>2</td>\n",
              "      <td>0</td>\n",
              "    </tr>\n",
              "  </tbody>\n",
              "</table>\n",
              "<p>200 rows × 28 columns</p>\n",
              "</div>"
            ],
            "text/plain": [
              "     tenure  age  address  income  ed  ...  loglong  logtoll  lninc  custcat  churn\n",
              "0        11   33        7     136   5  ...    1.482    3.033  4.913        4      1\n",
              "1        33   33       12      33   2  ...    2.246    3.240  3.497        1      1\n",
              "2        23   30        9      30   1  ...    1.841    3.240  3.401        3      0\n",
              "3        38   35        5      76   2  ...    1.800    3.807  4.331        4      0\n",
              "4         7   35       14      80   2  ...    1.960    3.091  4.382        3      0\n",
              "..      ...  ...      ...     ...  ..  ...      ...      ...    ...      ...    ...\n",
              "195      55   44       24      83   1  ...    2.854    3.199  4.419        3      0\n",
              "196      34   23        3      24   1  ...    1.792    3.332  3.178        3      0\n",
              "197       6   32       10      47   1  ...    1.348    3.168  3.850        3      0\n",
              "198      24   30        0      25   4  ...    2.163    3.866  3.219        4      1\n",
              "199      61   50       16     190   2  ...    2.824    3.240  5.247        2      0\n",
              "\n",
              "[200 rows x 28 columns]"
            ]
          },
          "metadata": {
            "tags": []
          },
          "execution_count": 182
        }
      ]
    },
    {
      "cell_type": "markdown",
      "metadata": {
        "id": "x5JQZC0aw0y7"
      },
      "source": [
        "**Data preprocessing and selection:**\n",
        "\n",
        "1. select feature list\n",
        "\n",
        "2. make sure tarhet variable is integer or non string"
      ]
    },
    {
      "cell_type": "code",
      "metadata": {
        "id": "qECX3lG3xJiJ"
      },
      "source": [
        "churn_df = dataset[['tenure', 'age', 'address', 'income', 'ed', 'employ', 'equip','callcard', 'wireless','churn']]"
      ],
      "execution_count": null,
      "outputs": []
    },
    {
      "cell_type": "code",
      "metadata": {
        "colab": {
          "base_uri": "https://localhost:8080/"
        },
        "id": "OsenUnFnxRcx",
        "outputId": "6bf6413c-9302-4046-a458-937f2aed944c"
      },
      "source": [
        "print(churn_df.dtypes)"
      ],
      "execution_count": null,
      "outputs": [
        {
          "output_type": "stream",
          "text": [
            "tenure      int64\n",
            "age         int64\n",
            "address     int64\n",
            "income      int64\n",
            "ed          int64\n",
            "employ      int64\n",
            "equip       int64\n",
            "callcard    int64\n",
            "wireless    int64\n",
            "churn       int64\n",
            "dtype: object\n"
          ],
          "name": "stdout"
        }
      ]
    },
    {
      "cell_type": "code",
      "metadata": {
        "colab": {
          "base_uri": "https://localhost:8080/",
          "height": 252
        },
        "id": "xW9dXlmmxZEE",
        "outputId": "c4c2dc57-a9bf-4e7e-aac8-d7be5da3af4c"
      },
      "source": [
        "churn_df.head(7)"
      ],
      "execution_count": null,
      "outputs": [
        {
          "output_type": "execute_result",
          "data": {
            "text/html": [
              "<div>\n",
              "<style scoped>\n",
              "    .dataframe tbody tr th:only-of-type {\n",
              "        vertical-align: middle;\n",
              "    }\n",
              "\n",
              "    .dataframe tbody tr th {\n",
              "        vertical-align: top;\n",
              "    }\n",
              "\n",
              "    .dataframe thead th {\n",
              "        text-align: right;\n",
              "    }\n",
              "</style>\n",
              "<table border=\"1\" class=\"dataframe\">\n",
              "  <thead>\n",
              "    <tr style=\"text-align: right;\">\n",
              "      <th></th>\n",
              "      <th>tenure</th>\n",
              "      <th>age</th>\n",
              "      <th>address</th>\n",
              "      <th>income</th>\n",
              "      <th>ed</th>\n",
              "      <th>employ</th>\n",
              "      <th>equip</th>\n",
              "      <th>callcard</th>\n",
              "      <th>wireless</th>\n",
              "      <th>churn</th>\n",
              "    </tr>\n",
              "  </thead>\n",
              "  <tbody>\n",
              "    <tr>\n",
              "      <th>0</th>\n",
              "      <td>11</td>\n",
              "      <td>33</td>\n",
              "      <td>7</td>\n",
              "      <td>136</td>\n",
              "      <td>5</td>\n",
              "      <td>5</td>\n",
              "      <td>0</td>\n",
              "      <td>1</td>\n",
              "      <td>1</td>\n",
              "      <td>1</td>\n",
              "    </tr>\n",
              "    <tr>\n",
              "      <th>1</th>\n",
              "      <td>33</td>\n",
              "      <td>33</td>\n",
              "      <td>12</td>\n",
              "      <td>33</td>\n",
              "      <td>2</td>\n",
              "      <td>0</td>\n",
              "      <td>0</td>\n",
              "      <td>0</td>\n",
              "      <td>0</td>\n",
              "      <td>1</td>\n",
              "    </tr>\n",
              "    <tr>\n",
              "      <th>2</th>\n",
              "      <td>23</td>\n",
              "      <td>30</td>\n",
              "      <td>9</td>\n",
              "      <td>30</td>\n",
              "      <td>1</td>\n",
              "      <td>2</td>\n",
              "      <td>0</td>\n",
              "      <td>0</td>\n",
              "      <td>0</td>\n",
              "      <td>0</td>\n",
              "    </tr>\n",
              "    <tr>\n",
              "      <th>3</th>\n",
              "      <td>38</td>\n",
              "      <td>35</td>\n",
              "      <td>5</td>\n",
              "      <td>76</td>\n",
              "      <td>2</td>\n",
              "      <td>10</td>\n",
              "      <td>1</td>\n",
              "      <td>1</td>\n",
              "      <td>1</td>\n",
              "      <td>0</td>\n",
              "    </tr>\n",
              "    <tr>\n",
              "      <th>4</th>\n",
              "      <td>7</td>\n",
              "      <td>35</td>\n",
              "      <td>14</td>\n",
              "      <td>80</td>\n",
              "      <td>2</td>\n",
              "      <td>15</td>\n",
              "      <td>0</td>\n",
              "      <td>1</td>\n",
              "      <td>0</td>\n",
              "      <td>0</td>\n",
              "    </tr>\n",
              "    <tr>\n",
              "      <th>5</th>\n",
              "      <td>68</td>\n",
              "      <td>52</td>\n",
              "      <td>17</td>\n",
              "      <td>120</td>\n",
              "      <td>1</td>\n",
              "      <td>24</td>\n",
              "      <td>0</td>\n",
              "      <td>1</td>\n",
              "      <td>0</td>\n",
              "      <td>0</td>\n",
              "    </tr>\n",
              "    <tr>\n",
              "      <th>6</th>\n",
              "      <td>42</td>\n",
              "      <td>40</td>\n",
              "      <td>7</td>\n",
              "      <td>37</td>\n",
              "      <td>2</td>\n",
              "      <td>8</td>\n",
              "      <td>1</td>\n",
              "      <td>1</td>\n",
              "      <td>1</td>\n",
              "      <td>0</td>\n",
              "    </tr>\n",
              "  </tbody>\n",
              "</table>\n",
              "</div>"
            ],
            "text/plain": [
              "   tenure  age  address  income  ed  employ  equip  callcard  wireless  churn\n",
              "0      11   33        7     136   5       5      0         1         1      1\n",
              "1      33   33       12      33   2       0      0         0         0      1\n",
              "2      23   30        9      30   1       2      0         0         0      0\n",
              "3      38   35        5      76   2      10      1         1         1      0\n",
              "4       7   35       14      80   2      15      0         1         0      0\n",
              "5      68   52       17     120   1      24      0         1         0      0\n",
              "6      42   40        7      37   2       8      1         1         1      0"
            ]
          },
          "metadata": {
            "tags": []
          },
          "execution_count": 185
        }
      ]
    },
    {
      "cell_type": "markdown",
      "metadata": {
        "id": "AELT8fr2yF6g"
      },
      "source": [
        "**define X( features) and y (target)**\n",
        "\n",
        "both must be numpy array"
      ]
    },
    {
      "cell_type": "code",
      "metadata": {
        "colab": {
          "base_uri": "https://localhost:8080/"
        },
        "id": "jEO_LYo0yQ1o",
        "outputId": "ddaa05c1-df01-4dc1-fbba-6b32ce072b32"
      },
      "source": [
        "X=np.asarray(churn_df[['tenure', 'age', 'address', 'income', 'ed', 'employ', 'equip']])\n",
        "X[0:5]"
      ],
      "execution_count": null,
      "outputs": [
        {
          "output_type": "execute_result",
          "data": {
            "text/plain": [
              "array([[ 11,  33,   7, 136,   5,   5,   0],\n",
              "       [ 33,  33,  12,  33,   2,   0,   0],\n",
              "       [ 23,  30,   9,  30,   1,   2,   0],\n",
              "       [ 38,  35,   5,  76,   2,  10,   1],\n",
              "       [  7,  35,  14,  80,   2,  15,   0]])"
            ]
          },
          "metadata": {
            "tags": []
          },
          "execution_count": 186
        }
      ]
    },
    {
      "cell_type": "code",
      "metadata": {
        "colab": {
          "base_uri": "https://localhost:8080/"
        },
        "id": "MkBid-4bzBLd",
        "outputId": "5b492d84-4f7c-4b93-991b-a099ec809123"
      },
      "source": [
        "y=np.asarray(churn_df['churn'])\n",
        "y[0:5]\n",
        "#y is either 0 or 1, its binary classifier"
      ],
      "execution_count": null,
      "outputs": [
        {
          "output_type": "execute_result",
          "data": {
            "text/plain": [
              "array([1, 1, 0, 0, 0])"
            ]
          },
          "metadata": {
            "tags": []
          },
          "execution_count": 187
        }
      ]
    },
    {
      "cell_type": "markdown",
      "metadata": {
        "id": "Ov1ZJjTFz_kq"
      },
      "source": [
        "**normalising the feature set**"
      ]
    },
    {
      "cell_type": "code",
      "metadata": {
        "colab": {
          "base_uri": "https://localhost:8080/"
        },
        "id": "FYg5YeBh0IeU",
        "outputId": "a5bb10d9-c39f-4175-977a-cb2b1fdfd800"
      },
      "source": [
        "X=preprocessing.StandardScaler().fit(X).transform(X)\n",
        "X[0:5]"
      ],
      "execution_count": null,
      "outputs": [
        {
          "output_type": "execute_result",
          "data": {
            "text/plain": [
              "array([[-1.13518441, -0.62595491, -0.4588971 ,  0.4751423 ,  1.6961288 ,\n",
              "        -0.58477841, -0.85972695],\n",
              "       [-0.11604313, -0.62595491,  0.03454064, -0.32886061, -0.6433592 ,\n",
              "        -1.14437497, -0.85972695],\n",
              "       [-0.57928917, -0.85594447, -0.261522  , -0.35227817, -1.42318853,\n",
              "        -0.92053635, -0.85972695],\n",
              "       [ 0.11557989, -0.47262854, -0.65627219,  0.00679109, -0.6433592 ,\n",
              "        -0.02518185,  1.16316   ],\n",
              "       [-1.32048283, -0.47262854,  0.23191574,  0.03801451, -0.6433592 ,\n",
              "         0.53441472, -0.85972695]])"
            ]
          },
          "metadata": {
            "tags": []
          },
          "execution_count": 188
        }
      ]
    },
    {
      "cell_type": "markdown",
      "metadata": {
        "id": "2llhBE9b0jg6"
      },
      "source": [
        "**splitting into train test set**"
      ]
    },
    {
      "cell_type": "code",
      "metadata": {
        "colab": {
          "base_uri": "https://localhost:8080/"
        },
        "id": "ahudkD770m_h",
        "outputId": "0cf982dd-1d6d-4d2d-8802-4f2d025ccdc8"
      },
      "source": [
        "X_train, X_test, y_train, y_test =train_test_split(X,y,test_size=0.2,random_state=1234)\n",
        "print ('Train set:', X_train.shape,  y_train.shape)\n",
        "print ('Test set:', X_test.shape,  y_test.shape)"
      ],
      "execution_count": null,
      "outputs": [
        {
          "output_type": "stream",
          "text": [
            "Train set: (160, 7) (160,)\n",
            "Test set: (40, 7) (40,)\n"
          ],
          "name": "stdout"
        }
      ]
    },
    {
      "cell_type": "markdown",
      "metadata": {
        "id": "gC2yCYRL5dR7"
      },
      "source": [
        "***Logistic Regression with Sklearn***"
      ]
    },
    {
      "cell_type": "code",
      "metadata": {
        "colab": {
          "base_uri": "https://localhost:8080/"
        },
        "id": "usoGRGxk5g3R",
        "outputId": "bcfa9c53-477f-451c-e9b8-0abfe1d307f9"
      },
      "source": [
        "from sklearn.linear_model import LogisticRegression\n",
        "lr=LogisticRegression(C=0.01, solver='liblinear')\n",
        "lr.fit(X_train,y_train)\n",
        "print(lr)"
      ],
      "execution_count": null,
      "outputs": [
        {
          "output_type": "stream",
          "text": [
            "LogisticRegression(C=0.01, class_weight=None, dual=False, fit_intercept=True,\n",
            "                   intercept_scaling=1, l1_ratio=None, max_iter=100,\n",
            "                   multi_class='auto', n_jobs=None, penalty='l2',\n",
            "                   random_state=None, solver='liblinear', tol=0.0001, verbose=0,\n",
            "                   warm_start=False)\n"
          ],
          "name": "stdout"
        }
      ]
    },
    {
      "cell_type": "code",
      "metadata": {
        "colab": {
          "base_uri": "https://localhost:8080/"
        },
        "id": "EzYkmywgYwT6",
        "outputId": "e136fb40-74cb-4003-b029-d5e88d71fdb9"
      },
      "source": [
        "print(\"coefficients are \\n : {}\".format(lr.coef_))\n",
        "\n",
        "print(\"\\nIntercepts are \\n : {}\".format(lr.intercept_))"
      ],
      "execution_count": null,
      "outputs": [
        {
          "output_type": "stream",
          "text": [
            "coefficients are \n",
            " : [[-0.15154059 -0.08537536 -0.06020004 -0.03197754  0.0785767  -0.13376906\n",
            "   0.11992008]]\n",
            "\n",
            "Intercepts are \n",
            " : [-0.23697043]\n"
          ],
          "name": "stdout"
        }
      ]
    },
    {
      "cell_type": "markdown",
      "metadata": {
        "id": "sMx7opmo6YAZ"
      },
      "source": [
        "**predicting on x_test**"
      ]
    },
    {
      "cell_type": "code",
      "metadata": {
        "colab": {
          "base_uri": "https://localhost:8080/"
        },
        "id": "ihs9PWLW55sj",
        "outputId": "b00416a5-38e8-4ef6-a985-b89300ecf3a6"
      },
      "source": [
        "pred=lr.predict(X_test)\n",
        "print(pred)\n",
        "\n",
        "accuracy= lr.score(X_test,y_test)\n",
        "print(\"\\naccuracy found is \",accuracy)\n",
        "\n"
      ],
      "execution_count": null,
      "outputs": [
        {
          "output_type": "stream",
          "text": [
            "[0 1 0 0 1 1 0 1 1 0 0 1 0 1 1 0 0 1 0 0 0 1 0 0 0 0 0 1 0 1 0 0 0 0 1 0 1\n",
            " 0 0 1]\n",
            "\n",
            "accuracy found is  0.8\n"
          ],
          "name": "stdout"
        }
      ]
    },
    {
      "cell_type": "markdown",
      "metadata": {
        "id": "opxMoX_E7G__"
      },
      "source": [
        "exploring the probabilities"
      ]
    },
    {
      "cell_type": "code",
      "metadata": {
        "colab": {
          "base_uri": "https://localhost:8080/"
        },
        "id": "LxLTmin47u1D",
        "outputId": "28a91bf4-dfb4-4caf-a873-3aedf9628a48"
      },
      "source": [
        "print(lr.classes_)\n",
        "\n",
        "#Probability estimates.\n",
        "#The returned estimates for all classes are ordered by the label of classes.\n",
        "\n",
        "print(lr.predict_proba(X_test))\n",
        "\n",
        "# 1st observation is [0.5410555  0.4589445 ], which indicates 54% prediction of class 0 and 45% prediction of class 1\n"
      ],
      "execution_count": null,
      "outputs": [
        {
          "output_type": "stream",
          "text": [
            "[0 1]\n",
            "[[0.5410555  0.4589445 ]\n",
            " [0.4101133  0.5898867 ]\n",
            " [0.74706158 0.25293842]\n",
            " [0.76590693 0.23409307]\n",
            " [0.49627609 0.50372391]\n",
            " [0.42365923 0.57634077]\n",
            " [0.73108738 0.26891262]\n",
            " [0.46795689 0.53204311]\n",
            " [0.41203834 0.58796166]\n",
            " [0.5740875  0.4259125 ]\n",
            " [0.68044267 0.31955733]\n",
            " [0.37330526 0.62669474]\n",
            " [0.52609837 0.47390163]\n",
            " [0.46946386 0.53053614]\n",
            " [0.44577963 0.55422037]\n",
            " [0.59487987 0.40512013]\n",
            " [0.63745963 0.36254037]\n",
            " [0.45674651 0.54325349]\n",
            " [0.53681167 0.46318833]\n",
            " [0.58648699 0.41351301]\n",
            " [0.5139811  0.4860189 ]\n",
            " [0.45410206 0.54589794]\n",
            " [0.66640343 0.33359657]\n",
            " [0.54598465 0.45401535]\n",
            " [0.56522011 0.43477989]\n",
            " [0.54433122 0.45566878]\n",
            " [0.65627012 0.34372988]\n",
            " [0.443358   0.556642  ]\n",
            " [0.73218103 0.26781897]\n",
            " [0.42177355 0.57822645]\n",
            " [0.52885611 0.47114389]\n",
            " [0.70587987 0.29412013]\n",
            " [0.56308746 0.43691254]\n",
            " [0.57809205 0.42190795]\n",
            " [0.41697713 0.58302287]\n",
            " [0.58510939 0.41489061]\n",
            " [0.45616547 0.54383453]\n",
            " [0.68868321 0.31131679]\n",
            " [0.501858   0.498142  ]\n",
            " [0.43109823 0.56890177]]\n"
          ],
          "name": "stdout"
        }
      ]
    },
    {
      "cell_type": "markdown",
      "metadata": {
        "id": "W9356JCiArKg"
      },
      "source": [
        "**making confusion matrix**"
      ]
    },
    {
      "cell_type": "code",
      "metadata": {
        "colab": {
          "base_uri": "https://localhost:8080/",
          "height": 313
        },
        "id": "hzngtsavAxND",
        "outputId": "e2b29a89-a745-4c6e-952b-6ebe72155484"
      },
      "source": [
        "skplt.metrics.plot_confusion_matrix(y_test, pred ,labels=[1,0])"
      ],
      "execution_count": null,
      "outputs": [
        {
          "output_type": "execute_result",
          "data": {
            "text/plain": [
              "<matplotlib.axes._subplots.AxesSubplot at 0x7faa8c121d90>"
            ]
          },
          "metadata": {
            "tags": []
          },
          "execution_count": 194
        },
        {
          "output_type": "display_data",
          "data": {
            "image/png": "[encoded data removed]",
            "text/plain": [
              "<Figure size 432x288 with 2 Axes>"
            ]
          },
          "metadata": {
            "tags": [],
            "needs_background": "light"
          }
        }
      ]
    },
    {
      "cell_type": "markdown",
      "metadata": {
        "id": "Q5p_WdbzEqt9"
      },
      "source": [
        "**evaluation metric: log_loss -->**\n",
        "to maintain a common convention that lower loss scores are better.\n",
        "\n",
        "In short, there are three steps to find Log Loss:\n",
        "\n",
        "To find corrected probabilities.\n",
        "\n",
        "Take a log of corrected probabilities.\n",
        "\n",
        "Take the negative average of the values we get in the 2nd step.\n",
        "\n",
        "\n"
      ]
    },
    {
      "cell_type": "code",
      "metadata": {
        "colab": {
          "base_uri": "https://localhost:8080/"
        },
        "id": "Dai8OTWY21HY",
        "outputId": "164eefc1-d4db-4fe4-a6c9-24626b72d931"
      },
      "source": [
        "from sklearn.metrics import log_loss\n",
        "pred_prob = lr.predict_proba(X_test)\n",
        "log_loss(y_test, pred_prob)"
      ],
      "execution_count": null,
      "outputs": [
        {
          "output_type": "execute_result",
          "data": {
            "text/plain": [
              "0.5723178226347725"
            ]
          },
          "metadata": {
            "tags": []
          },
          "execution_count": 195
        }
      ]
    },
    {
      "cell_type": "markdown",
      "metadata": {
        "id": "Ec7RdArpouNr"
      },
      "source": [
        "**optimising or reducing cost using Gradient descent**\n",
        "\n",
        "\n",
        "We should find the best parameters for our model by minimizing the cost function of our model.\n",
        "\n",
        " gradient descent is an iterative approach to finding the minimum of a function. Specifically, in our case, gradient descent is a technique to use derivative of a cost function to change the parameter values, to minimize the cost/error.\n",
        "\n",
        "Sigmoid function’s output is always between 0 and 1, which make it proper to interpret the results as probabilities. It is obvious that, when the outcome of sigma function get closer to 1, the probability of y=1, given x, goes up, and in contrast, when the sigmoid value is closer to zero, the probability of y=1, given x, is very small. Here we define a function to compute the sigmoid of an input"
      ]
    },
    {
      "cell_type": "code",
      "metadata": {
        "id": "jiHyOTrJa3te"
      },
      "source": [
        "def sigmoid(z):  #function to calculate sigmoid\n",
        "  s=1.0/ (1.0 + np.exp(-z))\n",
        "  return s\n",
        "\n",
        "\n",
        "def cost_computaion(theta,X,y):  #function to calculate cost\n",
        "  hx=sigmoid(np.dot(X,theta))#  predicted probability of label 1\n",
        "  cost = (-y)* np.log(hx) - (1-y)*np.log(1-hx) # log-likelihood vector\n",
        "  J=cost.mean()\n",
        "  return J\n",
        "\n",
        "\n",
        "def gradient_computation(theta,X,y): #function to calculate gradient\n",
        "  hx=sigmoid(np.dot(X,theta))\n",
        "  error=hx - y\n",
        "  grad= np.dot(error,X) / y.size\n",
        "  return grad\n",
        "\n",
        "\n"
      ],
      "execution_count": null,
      "outputs": []
    },
    {
      "cell_type": "code",
      "metadata": {
        "id": "QZh2M2DbaUWJ"
      },
      "source": [
        "cost_list=list()\n",
        "def gradient_descent(X,y,theta,alpha,iterations): #function to apply gradient descent\n",
        "   theta_n=theta.size\n",
        "   for i in range(iterations):\n",
        "     grad_val=gradient_computation(theta,X,y) #calculate gradient\n",
        "     theta=theta- alpha*grad_val #optimisation\n",
        "     cost=cost_computaion(theta,X,y)\n",
        "     cost_list.append(cost)\n",
        "     print(\"iteration= {}, lrate={}, cost={} \".format(i, alpha,cost))\n",
        "   return theta  \n"
      ],
      "execution_count": null,
      "outputs": []
    },
    {
      "cell_type": "code",
      "metadata": {
        "colab": {
          "base_uri": "https://localhost:8080/"
        },
        "id": "0Cdp7YlFYusW",
        "outputId": "234356e4-f2db-4a6b-b0d6-d86f28615376"
      },
      "source": [
        "coeff=np.reshape(lr.coef_, (7,))\n",
        "theta=np.insert(coeff,0,lr.intercept_) #add intercept at 1st position , 0 index\n",
        "\n",
        "#y_pred_1= (intercept) + x1*coeff1 + x2*coeff2 - - - - - - - - + x3*coeff3\n",
        "\n",
        "X_train_1 = np.append( np.ones((X_train.shape[0], 1)), X_train, axis=1) #this will add element '1' at postion 0 at every observation, which will get multiplied with intercept in sigmoid function\n",
        "X_test_1 = np.append( np.ones((X_test.shape[0], 1)), X_test, axis=1)\n",
        "\n",
        "new_theta = gradient_descent(X_train_1,y_train,theta,0.1,500)"
      ],
      "execution_count": null,
      "outputs": [
        {
          "output_type": "stream",
          "text": [
            "iteration= 0, lrate=0.1, cost=0.5807531979206212 \n",
            "iteration= 1, lrate=0.1, cost=0.5761468178755242 \n",
            "iteration= 2, lrate=0.1, cost=0.5718603307838206 \n",
            "iteration= 3, lrate=0.1, cost=0.5678607368828773 \n",
            "iteration= 4, lrate=0.1, cost=0.5641193746245635 \n",
            "iteration= 5, lrate=0.1, cost=0.5606112701599164 \n",
            "iteration= 6, lrate=0.1, cost=0.5573145908467856 \n",
            "iteration= 7, lrate=0.1, cost=0.5542101860707376 \n",
            "iteration= 8, lrate=0.1, cost=0.5512812010967214 \n",
            "iteration= 9, lrate=0.1, cost=0.5485127518885191 \n",
            "iteration= 10, lrate=0.1, cost=0.545891650787722 \n",
            "iteration= 11, lrate=0.1, cost=0.5434061746250285 \n",
            "iteration= 12, lrate=0.1, cost=0.5410458682600009 \n",
            "iteration= 13, lrate=0.1, cost=0.5388013777381305 \n",
            "iteration= 14, lrate=0.1, cost=0.5366643082466636 \n",
            "iteration= 15, lrate=0.1, cost=0.534627102873074 \n",
            "iteration= 16, lrate=0.1, cost=0.5326829388496721 \n",
            "iteration= 17, lrate=0.1, cost=0.5308256385286226 \n",
            "iteration= 18, lrate=0.1, cost=0.5290495927941766 \n",
            "iteration= 19, lrate=0.1, cost=0.5273496950004873 \n",
            "iteration= 20, lrate=0.1, cost=0.5257212838384064 \n",
            "iteration= 21, lrate=0.1, cost=0.5241600937950306 \n",
            "iteration= 22, lrate=0.1, cost=0.5226622120853016 \n",
            "iteration= 23, lrate=0.1, cost=0.5212240411136573 \n",
            "iteration= 24, lrate=0.1, cost=0.5198422656721701 \n",
            "iteration= 25, lrate=0.1, cost=0.5185138242051506 \n",
            "iteration= 26, lrate=0.1, cost=0.5172358835732218 \n",
            "iteration= 27, lrate=0.1, cost=0.516005816835979 \n",
            "iteration= 28, lrate=0.1, cost=0.5148211836444554 \n",
            "iteration= 29, lrate=0.1, cost=0.5136797128951544 \n",
            "iteration= 30, lrate=0.1, cost=0.5125792873483022 \n",
            "iteration= 31, lrate=0.1, cost=0.5115179299559071 \n",
            "iteration= 32, lrate=0.1, cost=0.510493791681448 \n",
            "iteration= 33, lrate=0.1, cost=0.5095051406237149 \n",
            "iteration= 34, lrate=0.1, cost=0.5085503522833522 \n",
            "iteration= 35, lrate=0.1, cost=0.507627900832789 \n",
            "iteration= 36, lrate=0.1, cost=0.5067363512690926 \n",
            "iteration= 37, lrate=0.1, cost=0.5058743523453704 \n",
            "iteration= 38, lrate=0.1, cost=0.5050406301901116 \n",
            "iteration= 39, lrate=0.1, cost=0.5042339825356457 \n",
            "iteration= 40, lrate=0.1, cost=0.5034532734870277 \n",
            "iteration= 41, lrate=0.1, cost=0.5026974287713635 \n",
            "iteration= 42, lrate=0.1, cost=0.5019654314150962 \n",
            "iteration= 43, lrate=0.1, cost=0.501256317803257 \n",
            "iteration= 44, lrate=0.1, cost=0.5005691740802863 \n",
            "iteration= 45, lrate=0.1, cost=0.4999031328568904 \n",
            "iteration= 46, lrate=0.1, cost=0.49925737019161376 \n",
            "iteration= 47, lrate=0.1, cost=0.49863110281947287 \n",
            "iteration= 48, lrate=0.1, cost=0.49802358560319454 \n",
            "iteration= 49, lrate=0.1, cost=0.4974341091853809 \n",
            "iteration= 50, lrate=0.1, cost=0.49686199782236623 \n",
            "iteration= 51, lrate=0.1, cost=0.49630660738265703 \n",
            "iteration= 52, lrate=0.1, cost=0.49576732349471886 \n",
            "iteration= 53, lrate=0.1, cost=0.495243559830514 \n",
            "iteration= 54, lrate=0.1, cost=0.4947347565126391 \n",
            "iteration= 55, lrate=0.1, cost=0.4942403786341842 \n",
            "iteration= 56, lrate=0.1, cost=0.49375991488155846 \n",
            "iteration= 57, lrate=0.1, cost=0.49329287625151846 \n",
            "iteration= 58, lrate=0.1, cost=0.49283879485451776 \n",
            "iteration= 59, lrate=0.1, cost=0.49239722279726994 \n",
            "iteration= 60, lrate=0.1, cost=0.49196773113811637 \n",
            "iteration= 61, lrate=0.1, cost=0.49154990890939787 \n",
            "iteration= 62, lrate=0.1, cost=0.49114336220158494 \n",
            "iteration= 63, lrate=0.1, cost=0.4907477133044035 \n",
            "iteration= 64, lrate=0.1, cost=0.49036259990063547 \n",
            "iteration= 65, lrate=0.1, cost=0.48998767430866064 \n",
            "iteration= 66, lrate=0.1, cost=0.48962260277015945 \n",
            "iteration= 67, lrate=0.1, cost=0.4892670647797074 \n",
            "iteration= 68, lrate=0.1, cost=0.4889207524532776 \n",
            "iteration= 69, lrate=0.1, cost=0.48858336993292084 \n",
            "iteration= 70, lrate=0.1, cost=0.48825463282512 \n",
            "iteration= 71, lrate=0.1, cost=0.48793426767052583 \n",
            "iteration= 72, lrate=0.1, cost=0.4876220114429648 \n",
            "iteration= 73, lrate=0.1, cost=0.4873176110757824 \n",
            "iteration= 74, lrate=0.1, cost=0.4870208230137335 \n",
            "iteration= 75, lrate=0.1, cost=0.486731412788777 \n",
            "iteration= 76, lrate=0.1, cost=0.48644915461825267 \n",
            "iteration= 77, lrate=0.1, cost=0.48617383102403694 \n",
            "iteration= 78, lrate=0.1, cost=0.4859052324713775 \n",
            "iteration= 79, lrate=0.1, cost=0.48564315702620364 \n",
            "iteration= 80, lrate=0.1, cost=0.485387410029794 \n",
            "iteration= 81, lrate=0.1, cost=0.48513780378976723 \n",
            "iteration= 82, lrate=0.1, cost=0.48489415728643187 \n",
            "iteration= 83, lrate=0.1, cost=0.4846562958935984 \n",
            "iteration= 84, lrate=0.1, cost=0.4844240511130195 \n",
            "iteration= 85, lrate=0.1, cost=0.48419726032168275 \n",
            "iteration= 86, lrate=0.1, cost=0.48397576653122687 \n",
            "iteration= 87, lrate=0.1, cost=0.48375941815880685 \n",
            "iteration= 88, lrate=0.1, cost=0.4835480688087733 \n",
            "iteration= 89, lrate=0.1, cost=0.4833415770645758 \n",
            "iteration= 90, lrate=0.1, cost=0.4831398062903326 \n",
            "iteration= 91, lrate=0.1, cost=0.48294262444155106 \n",
            "iteration= 92, lrate=0.1, cost=0.48274990388450945 \n",
            "iteration= 93, lrate=0.1, cost=0.4825615212238448 \n",
            "iteration= 94, lrate=0.1, cost=0.4823773571379162 \n",
            "iteration= 95, lrate=0.1, cost=0.4821972962215428 \n",
            "iteration= 96, lrate=0.1, cost=0.4820212268357354 \n",
            "iteration= 97, lrate=0.1, cost=0.4818490409640674 \n",
            "iteration= 98, lrate=0.1, cost=0.48168063407534667 \n",
            "iteration= 99, lrate=0.1, cost=0.48151590499227603 \n",
            "iteration= 100, lrate=0.1, cost=0.4813547557658005 \n",
            "iteration= 101, lrate=0.1, cost=0.4811970915548628 \n",
            "iteration= 102, lrate=0.1, cost=0.4810428205113014 \n",
            "iteration= 103, lrate=0.1, cost=0.48089185366964193 \n",
            "iteration= 104, lrate=0.1, cost=0.4807441048415411 \n",
            "iteration= 105, lrate=0.1, cost=0.4805994905146669 \n",
            "iteration= 106, lrate=0.1, cost=0.48045792975579715 \n",
            "iteration= 107, lrate=0.1, cost=0.4803193441179402 \n",
            "iteration= 108, lrate=0.1, cost=0.480183657551288 \n",
            "iteration= 109, lrate=0.1, cost=0.48005079631782177 \n",
            "iteration= 110, lrate=0.1, cost=0.47992068890940126 \n",
            "iteration= 111, lrate=0.1, cost=0.4797932659691762 \n",
            "iteration= 112, lrate=0.1, cost=0.4796684602161692 \n",
            "iteration= 113, lrate=0.1, cost=0.47954620637288314 \n",
            "iteration= 114, lrate=0.1, cost=0.47942644109579835 \n",
            "iteration= 115, lrate=0.1, cost=0.479309102908627 \n",
            "iteration= 116, lrate=0.1, cost=0.4791941321382037 \n",
            "iteration= 117, lrate=0.1, cost=0.479081470852894 \n",
            "iteration= 118, lrate=0.1, cost=0.47897106280340696 \n",
            "iteration= 119, lrate=0.1, cost=0.4788628533659109 \n",
            "iteration= 120, lrate=0.1, cost=0.4787567894873458 \n",
            "iteration= 121, lrate=0.1, cost=0.47865281963284156 \n",
            "iteration= 122, lrate=0.1, cost=0.4785508937351475 \n",
            "iteration= 123, lrate=0.1, cost=0.47845096314598806 \n",
            "iteration= 124, lrate=0.1, cost=0.47835298058926146 \n",
            "iteration= 125, lrate=0.1, cost=0.4782569001160038 \n",
            "iteration= 126, lrate=0.1, cost=0.4781626770610412 \n",
            "iteration= 127, lrate=0.1, cost=0.47807026800126257 \n",
            "iteration= 128, lrate=0.1, cost=0.4779796307154404 \n",
            "iteration= 129, lrate=0.1, cost=0.4778907241455391 \n",
            "iteration= 130, lrate=0.1, cost=0.47780350835944574 \n",
            "iteration= 131, lrate=0.1, cost=0.4777179445150666 \n",
            "iteration= 132, lrate=0.1, cost=0.4776339948257319 \n",
            "iteration= 133, lrate=0.1, cost=0.4775516225268553 \n",
            "iteration= 134, lrate=0.1, cost=0.4774707918437976 \n",
            "iteration= 135, lrate=0.1, cost=0.4773914679608856 \n",
            "iteration= 136, lrate=0.1, cost=0.47731361699153785 \n",
            "iteration= 137, lrate=0.1, cost=0.4772372059494561 \n",
            "iteration= 138, lrate=0.1, cost=0.4771622027208357 \n",
            "iteration= 139, lrate=0.1, cost=0.47708857603755794 \n",
            "iteration= 140, lrate=0.1, cost=0.4770162954513225 \n",
            "iteration= 141, lrate=0.1, cost=0.47694533130868616 \n",
            "iteration= 142, lrate=0.1, cost=0.47687565472696763 \n",
            "iteration= 143, lrate=0.1, cost=0.4768072375709892 \n",
            "iteration= 144, lrate=0.1, cost=0.47674005243061923 \n",
            "iteration= 145, lrate=0.1, cost=0.47667407259908734 \n",
            "iteration= 146, lrate=0.1, cost=0.4766092720520379 \n",
            "iteration= 147, lrate=0.1, cost=0.47654562542730067 \n",
            "iteration= 148, lrate=0.1, cost=0.47648310800534227 \n",
            "iteration= 149, lrate=0.1, cost=0.4764216956903805 \n",
            "iteration= 150, lrate=0.1, cost=0.4763613649921313 \n",
            "iteration= 151, lrate=0.1, cost=0.4763020930081666 \n",
            "iteration= 152, lrate=0.1, cost=0.47624385740685915 \n",
            "iteration= 153, lrate=0.1, cost=0.4761866364108931 \n",
            "iteration= 154, lrate=0.1, cost=0.47613040878131957 \n",
            "iteration= 155, lrate=0.1, cost=0.4760751538021342 \n",
            "iteration= 156, lrate=0.1, cost=0.47602085126536176 \n",
            "iteration= 157, lrate=0.1, cost=0.4759674814566253 \n",
            "iteration= 158, lrate=0.1, cost=0.47591502514118444 \n",
            "iteration= 159, lrate=0.1, cost=0.47586346355042386 \n",
            "iteration= 160, lrate=0.1, cost=0.4758127783687778 \n",
            "iteration= 161, lrate=0.1, cost=0.4757629517210725 \n",
            "iteration= 162, lrate=0.1, cost=0.47571396616027306 \n",
            "iteration= 163, lrate=0.1, cost=0.47566580465561914 \n",
            "iteration= 164, lrate=0.1, cost=0.47561845058113705 \n",
            "iteration= 165, lrate=0.1, cost=0.475571887704513 \n",
            "iteration= 166, lrate=0.1, cost=0.4755261001763156 \n",
            "iteration= 167, lrate=0.1, cost=0.47548107251955624 \n",
            "iteration= 168, lrate=0.1, cost=0.47543678961957303 \n",
            "iteration= 169, lrate=0.1, cost=0.4753932367142292 \n",
            "iteration= 170, lrate=0.1, cost=0.4753503993844144 \n",
            "iteration= 171, lrate=0.1, cost=0.4753082635448374 \n",
            "iteration= 172, lrate=0.1, cost=0.4752668154351012 \n",
            "iteration= 173, lrate=0.1, cost=0.4752260416110502 \n",
            "iteration= 174, lrate=0.1, cost=0.4751859289363812 \n",
            "iteration= 175, lrate=0.1, cost=0.4751464645745064 \n",
            "iteration= 176, lrate=0.1, cost=0.4751076359806641 \n",
            "iteration= 177, lrate=0.1, cost=0.4750694308942641 \n",
            "iteration= 178, lrate=0.1, cost=0.47503183733146387 \n",
            "iteration= 179, lrate=0.1, cost=0.4749948435779645 \n",
            "iteration= 180, lrate=0.1, cost=0.47495843818202077 \n",
            "iteration= 181, lrate=0.1, cost=0.47492260994765917 \n",
            "iteration= 182, lrate=0.1, cost=0.47488734792809345 \n",
            "iteration= 183, lrate=0.1, cost=0.47485264141933514 \n",
            "iteration= 184, lrate=0.1, cost=0.47481847995398996 \n",
            "iteration= 185, lrate=0.1, cost=0.47478485329523473 \n",
            "iteration= 186, lrate=0.1, cost=0.4747517514309697 \n",
            "iteration= 187, lrate=0.1, cost=0.474719164568139 \n",
            "iteration= 188, lrate=0.1, cost=0.4746870831272146 \n",
            "iteration= 189, lrate=0.1, cost=0.4746554977368399 \n",
            "iteration= 190, lrate=0.1, cost=0.47462439922862376 \n",
            "iteration= 191, lrate=0.1, cost=0.47459377863208535 \n",
            "iteration= 192, lrate=0.1, cost=0.47456362716974015 \n",
            "iteration= 193, lrate=0.1, cost=0.47453393625232676 \n",
            "iteration= 194, lrate=0.1, cost=0.47450469747416657 \n",
            "iteration= 195, lrate=0.1, cost=0.4744759026086534 \n",
            "iteration= 196, lrate=0.1, cost=0.4744475436038715 \n",
            "iteration= 197, lrate=0.1, cost=0.4744196125783323 \n",
            "iteration= 198, lrate=0.1, cost=0.47439210181683206 \n",
            "iteration= 199, lrate=0.1, cost=0.47436500376642243 \n",
            "iteration= 200, lrate=0.1, cost=0.47433831103249313 \n",
            "iteration= 201, lrate=0.1, cost=0.4743120163749609 \n",
            "iteration= 202, lrate=0.1, cost=0.47428611270456367 \n",
            "iteration= 203, lrate=0.1, cost=0.4742605930792557 \n",
            "iteration= 204, lrate=0.1, cost=0.4742354507006998 \n",
            "iteration= 205, lrate=0.1, cost=0.474210678910855 \n",
            "iteration= 206, lrate=0.1, cost=0.4741862711886565 \n",
            "iteration= 207, lrate=0.1, cost=0.4741622211467845 \n",
            "iteration= 208, lrate=0.1, cost=0.4741385225285194 \n",
            "iteration= 209, lrate=0.1, cost=0.4741151692046809 \n",
            "iteration= 210, lrate=0.1, cost=0.47409215517064923 \n",
            "iteration= 211, lrate=0.1, cost=0.4740694745434645 \n",
            "iteration= 212, lrate=0.1, cost=0.47404712155900297 \n",
            "iteration= 213, lrate=0.1, cost=0.47402509056922765 \n",
            "iteration= 214, lrate=0.1, cost=0.4740033760395111 \n",
            "iteration= 215, lrate=0.1, cost=0.47398197254602825 \n",
            "iteration= 216, lrate=0.1, cost=0.4739608747732168 \n",
            "iteration= 217, lrate=0.1, cost=0.4739400775113041 \n",
            "iteration= 218, lrate=0.1, cost=0.4739195756538977 \n",
            "iteration= 219, lrate=0.1, cost=0.47389936419563794 \n",
            "iteration= 220, lrate=0.1, cost=0.4738794382299118 \n",
            "iteration= 221, lrate=0.1, cost=0.47385979294662395 \n",
            "iteration= 222, lrate=0.1, cost=0.47384042363002604 \n",
            "iteration= 223, lrate=0.1, cost=0.47382132565660007 \n",
            "iteration= 224, lrate=0.1, cost=0.47380249449299716 \n",
            "iteration= 225, lrate=0.1, cost=0.4737839256940264 \n",
            "iteration= 226, lrate=0.1, cost=0.473765614900696 \n",
            "iteration= 227, lrate=0.1, cost=0.4737475578383032 \n",
            "iteration= 228, lrate=0.1, cost=0.4737297503145717 \n",
            "iteration= 229, lrate=0.1, cost=0.4737121882178362 \n",
            "iteration= 230, lrate=0.1, cost=0.473694867515272 \n",
            "iteration= 231, lrate=0.1, cost=0.4736777842511682 \n",
            "iteration= 232, lrate=0.1, cost=0.4736609345452437 \n",
            "iteration= 233, lrate=0.1, cost=0.4736443145910053 \n",
            "iteration= 234, lrate=0.1, cost=0.473627920654146 \n",
            "iteration= 235, lrate=0.1, cost=0.4736117490709816 \n",
            "iteration= 236, lrate=0.1, cost=0.47359579624692716 \n",
            "iteration= 237, lrate=0.1, cost=0.47358005865500885 \n",
            "iteration= 238, lrate=0.1, cost=0.47356453283441413 \n",
            "iteration= 239, lrate=0.1, cost=0.4735492153890742 \n",
            "iteration= 240, lrate=0.1, cost=0.47353410298628357 \n",
            "iteration= 241, lrate=0.1, cost=0.4735191923553508 \n",
            "iteration= 242, lrate=0.1, cost=0.4735044802862827 \n",
            "iteration= 243, lrate=0.1, cost=0.4734899636284995 \n",
            "iteration= 244, lrate=0.1, cost=0.47347563928958125 \n",
            "iteration= 245, lrate=0.1, cost=0.47346150423404343 \n",
            "iteration= 246, lrate=0.1, cost=0.4734475554821415 \n",
            "iteration= 247, lrate=0.1, cost=0.47343379010870495 \n",
            "iteration= 248, lrate=0.1, cost=0.47342020524199757 \n",
            "iteration= 249, lrate=0.1, cost=0.4734067980626048 \n",
            "iteration= 250, lrate=0.1, cost=0.4733935658023475 \n",
            "iteration= 251, lrate=0.1, cost=0.47338050574322105 \n",
            "iteration= 252, lrate=0.1, cost=0.4733676152163591 \n",
            "iteration= 253, lrate=0.1, cost=0.4733548916010214 \n",
            "iteration= 254, lrate=0.1, cost=0.4733423323236049 \n",
            "iteration= 255, lrate=0.1, cost=0.4733299348566781 \n",
            "iteration= 256, lrate=0.1, cost=0.47331769671803786 \n",
            "iteration= 257, lrate=0.1, cost=0.47330561546978667 \n",
            "iteration= 258, lrate=0.1, cost=0.47329368871743294 \n",
            "iteration= 259, lrate=0.1, cost=0.4732819141090102 \n",
            "iteration= 260, lrate=0.1, cost=0.4732702893342175 \n",
            "iteration= 261, lrate=0.1, cost=0.4732588121235781 \n",
            "iteration= 262, lrate=0.1, cost=0.4732474802476193 \n",
            "iteration= 263, lrate=0.1, cost=0.4732362915160686 \n",
            "iteration= 264, lrate=0.1, cost=0.4732252437770693 \n",
            "iteration= 265, lrate=0.1, cost=0.47321433491641357 \n",
            "iteration= 266, lrate=0.1, cost=0.4732035628567922 \n",
            "iteration= 267, lrate=0.1, cost=0.4731929255570618 \n",
            "iteration= 268, lrate=0.1, cost=0.47318242101152813 \n",
            "iteration= 269, lrate=0.1, cost=0.4731720472492449 \n",
            "iteration= 270, lrate=0.1, cost=0.4731618023333291 \n",
            "iteration= 271, lrate=0.1, cost=0.4731516843602905 \n",
            "iteration= 272, lrate=0.1, cost=0.47314169145937657 \n",
            "iteration= 273, lrate=0.1, cost=0.473131821791932 \n",
            "iteration= 274, lrate=0.1, cost=0.473122073550771 \n",
            "iteration= 275, lrate=0.1, cost=0.4731124449595656 \n",
            "iteration= 276, lrate=0.1, cost=0.4731029342722448 \n",
            "iteration= 277, lrate=0.1, cost=0.47309353977240887 \n",
            "iteration= 278, lrate=0.1, cost=0.47308425977275537 \n",
            "iteration= 279, lrate=0.1, cost=0.47307509261451736 \n",
            "iteration= 280, lrate=0.1, cost=0.4730660366669149 \n",
            "iteration= 281, lrate=0.1, cost=0.4730570903266173 \n",
            "iteration= 282, lrate=0.1, cost=0.4730482520172175 \n",
            "iteration= 283, lrate=0.1, cost=0.47303952018871753 \n",
            "iteration= 284, lrate=0.1, cost=0.4730308933170246 \n",
            "iteration= 285, lrate=0.1, cost=0.4730223699034595 \n",
            "iteration= 286, lrate=0.1, cost=0.4730139484742735 \n",
            "iteration= 287, lrate=0.1, cost=0.4730056275801764 \n",
            "iteration= 288, lrate=0.1, cost=0.4729974057958752 \n",
            "iteration= 289, lrate=0.1, cost=0.47298928171962135 \n",
            "iteration= 290, lrate=0.1, cost=0.47298125397276836 \n",
            "iteration= 291, lrate=0.1, cost=0.47297332119933877 \n",
            "iteration= 292, lrate=0.1, cost=0.4729654820655993 \n",
            "iteration= 293, lrate=0.1, cost=0.47295773525964613 \n",
            "iteration= 294, lrate=0.1, cost=0.47295007949099804 \n",
            "iteration= 295, lrate=0.1, cost=0.47294251349019856 \n",
            "iteration= 296, lrate=0.1, cost=0.47293503600842535 \n",
            "iteration= 297, lrate=0.1, cost=0.47292764581710955 \n",
            "iteration= 298, lrate=0.1, cost=0.4729203417075608 \n",
            "iteration= 299, lrate=0.1, cost=0.47291312249060197 \n",
            "iteration= 300, lrate=0.1, cost=0.4729059869962103 \n",
            "iteration= 301, lrate=0.1, cost=0.47289893407316574 \n",
            "iteration= 302, lrate=0.1, cost=0.47289196258870786 \n",
            "iteration= 303, lrate=0.1, cost=0.4728850714281981 \n",
            "iteration= 304, lrate=0.1, cost=0.4728782594947898 \n",
            "iteration= 305, lrate=0.1, cost=0.4728715257091055 \n",
            "iteration= 306, lrate=0.1, cost=0.47286486900891944 \n",
            "iteration= 307, lrate=0.1, cost=0.47285828834884713 \n",
            "iteration= 308, lrate=0.1, cost=0.47285178270004247 \n",
            "iteration= 309, lrate=0.1, cost=0.472845351049898 \n",
            "iteration= 310, lrate=0.1, cost=0.4728389924017547 \n",
            "iteration= 311, lrate=0.1, cost=0.4728327057746148 \n",
            "iteration= 312, lrate=0.1, cost=0.472826490202862 \n",
            "iteration= 313, lrate=0.1, cost=0.4728203447359867 \n",
            "iteration= 314, lrate=0.1, cost=0.47281426843831653 \n",
            "iteration= 315, lrate=0.1, cost=0.47280826038875273 \n",
            "iteration= 316, lrate=0.1, cost=0.47280231968051156 \n",
            "iteration= 317, lrate=0.1, cost=0.47279644542087074 \n",
            "iteration= 318, lrate=0.1, cost=0.472790636730921 \n",
            "iteration= 319, lrate=0.1, cost=0.47278489274532254 \n",
            "iteration= 320, lrate=0.1, cost=0.47277921261206624 \n",
            "iteration= 321, lrate=0.1, cost=0.4727735954922399 \n",
            "iteration= 322, lrate=0.1, cost=0.4727680405597984 \n",
            "iteration= 323, lrate=0.1, cost=0.4727625470013387 \n",
            "iteration= 324, lrate=0.1, cost=0.4727571140158798 \n",
            "iteration= 325, lrate=0.1, cost=0.47275174081464605 \n",
            "iteration= 326, lrate=0.1, cost=0.4727464266208551 \n",
            "iteration= 327, lrate=0.1, cost=0.4727411706695099 \n",
            "iteration= 328, lrate=0.1, cost=0.4727359722071956 \n",
            "iteration= 329, lrate=0.1, cost=0.4727308304918781 \n",
            "iteration= 330, lrate=0.1, cost=0.47272574479270946 \n",
            "iteration= 331, lrate=0.1, cost=0.47272071438983465 \n",
            "iteration= 332, lrate=0.1, cost=0.472715738574203 \n",
            "iteration= 333, lrate=0.1, cost=0.47271081664738396 \n",
            "iteration= 334, lrate=0.1, cost=0.47270594792138426 \n",
            "iteration= 335, lrate=0.1, cost=0.47270113171847133 \n",
            "iteration= 336, lrate=0.1, cost=0.4726963673709976 \n",
            "iteration= 337, lrate=0.1, cost=0.47269165422123016 \n",
            "iteration= 338, lrate=0.1, cost=0.4726869916211817 \n",
            "iteration= 339, lrate=0.1, cost=0.4726823789324467 \n",
            "iteration= 340, lrate=0.1, cost=0.47267781552603855 \n",
            "iteration= 341, lrate=0.1, cost=0.4726733007822322 \n",
            "iteration= 342, lrate=0.1, cost=0.47266883409040733 \n",
            "iteration= 343, lrate=0.1, cost=0.4726644148488961 \n",
            "iteration= 344, lrate=0.1, cost=0.4726600424648332 \n",
            "iteration= 345, lrate=0.1, cost=0.47265571635400877 \n",
            "iteration= 346, lrate=0.1, cost=0.4726514359407239 \n",
            "iteration= 347, lrate=0.1, cost=0.47264720065764915 \n",
            "iteration= 348, lrate=0.1, cost=0.4726430099456855 \n",
            "iteration= 349, lrate=0.1, cost=0.4726388632538276 \n",
            "iteration= 350, lrate=0.1, cost=0.4726347600390305 \n",
            "iteration= 351, lrate=0.1, cost=0.4726306997660775 \n",
            "iteration= 352, lrate=0.1, cost=0.47262668190745194 \n",
            "iteration= 353, lrate=0.1, cost=0.47262270594320954 \n",
            "iteration= 354, lrate=0.1, cost=0.4726187713608552 \n",
            "iteration= 355, lrate=0.1, cost=0.47261487765522003 \n",
            "iteration= 356, lrate=0.1, cost=0.4726110243283424 \n",
            "iteration= 357, lrate=0.1, cost=0.47260721088934954 \n",
            "iteration= 358, lrate=0.1, cost=0.472603436854343 \n",
            "iteration= 359, lrate=0.1, cost=0.4725997017462844 \n",
            "iteration= 360, lrate=0.1, cost=0.47259600509488464 \n",
            "iteration= 361, lrate=0.1, cost=0.4725923464364947 \n",
            "iteration= 362, lrate=0.1, cost=0.4725887253139982 \n",
            "iteration= 363, lrate=0.1, cost=0.4725851412767058 \n",
            "iteration= 364, lrate=0.1, cost=0.47258159388025245 \n",
            "iteration= 365, lrate=0.1, cost=0.4725780826864949 \n",
            "iteration= 366, lrate=0.1, cost=0.4725746072634129 \n",
            "iteration= 367, lrate=0.1, cost=0.47257116718501047 \n",
            "iteration= 368, lrate=0.1, cost=0.4725677620312202 \n",
            "iteration= 369, lrate=0.1, cost=0.47256439138780826 \n",
            "iteration= 370, lrate=0.1, cost=0.4725610548462821 \n",
            "iteration= 371, lrate=0.1, cost=0.472557752003799 \n",
            "iteration= 372, lrate=0.1, cost=0.47255448246307674 \n",
            "iteration= 373, lrate=0.1, cost=0.47255124583230546 \n",
            "iteration= 374, lrate=0.1, cost=0.47254804172506104 \n",
            "iteration= 375, lrate=0.1, cost=0.4725448697602211 \n",
            "iteration= 376, lrate=0.1, cost=0.4725417295618808 \n",
            "iteration= 377, lrate=0.1, cost=0.4725386207592712 \n",
            "iteration= 378, lrate=0.1, cost=0.4725355429866789 \n",
            "iteration= 379, lrate=0.1, cost=0.4725324958833669 \n",
            "iteration= 380, lrate=0.1, cost=0.4725294790934971 \n",
            "iteration= 381, lrate=0.1, cost=0.4725264922660538 \n",
            "iteration= 382, lrate=0.1, cost=0.472523535054769 \n",
            "iteration= 383, lrate=0.1, cost=0.472520607118048 \n",
            "iteration= 384, lrate=0.1, cost=0.4725177081188983 \n",
            "iteration= 385, lrate=0.1, cost=0.4725148377248572 \n",
            "iteration= 386, lrate=0.1, cost=0.4725119956079228 \n",
            "iteration= 387, lrate=0.1, cost=0.47250918144448467 \n",
            "iteration= 388, lrate=0.1, cost=0.47250639491525703 \n",
            "iteration= 389, lrate=0.1, cost=0.4725036357052117 \n",
            "iteration= 390, lrate=0.1, cost=0.47250090350351337 \n",
            "iteration= 391, lrate=0.1, cost=0.4724981980034556 \n",
            "iteration= 392, lrate=0.1, cost=0.4724955189023972 \n",
            "iteration= 393, lrate=0.1, cost=0.47249286590170125 \n",
            "iteration= 394, lrate=0.1, cost=0.4724902387066735 \n",
            "iteration= 395, lrate=0.1, cost=0.47248763702650304 \n",
            "iteration= 396, lrate=0.1, cost=0.4724850605742031 \n",
            "iteration= 397, lrate=0.1, cost=0.47248250906655365 \n",
            "iteration= 398, lrate=0.1, cost=0.4724799822240445 \n",
            "iteration= 399, lrate=0.1, cost=0.47247747977081944 \n",
            "iteration= 400, lrate=0.1, cost=0.47247500143462096 \n",
            "iteration= 401, lrate=0.1, cost=0.4724725469467369 \n",
            "iteration= 402, lrate=0.1, cost=0.47247011604194694 \n",
            "iteration= 403, lrate=0.1, cost=0.4724677084584708 \n",
            "iteration= 404, lrate=0.1, cost=0.47246532393791635 \n",
            "iteration= 405, lrate=0.1, cost=0.47246296222523 \n",
            "iteration= 406, lrate=0.1, cost=0.4724606230686462 \n",
            "iteration= 407, lrate=0.1, cost=0.47245830621963947 \n",
            "iteration= 408, lrate=0.1, cost=0.47245601143287586 \n",
            "iteration= 409, lrate=0.1, cost=0.47245373846616606 \n",
            "iteration= 410, lrate=0.1, cost=0.47245148708041923 \n",
            "iteration= 411, lrate=0.1, cost=0.47244925703959684 \n",
            "iteration= 412, lrate=0.1, cost=0.4724470481106683 \n",
            "iteration= 413, lrate=0.1, cost=0.4724448600635666 \n",
            "iteration= 414, lrate=0.1, cost=0.47244269267114536 \n",
            "iteration= 415, lrate=0.1, cost=0.4724405457091351 \n",
            "iteration= 416, lrate=0.1, cost=0.4724384189561027 \n",
            "iteration= 417, lrate=0.1, cost=0.47243631219340926 \n",
            "iteration= 418, lrate=0.1, cost=0.4724342252051693 \n",
            "iteration= 419, lrate=0.1, cost=0.4724321577782116 \n",
            "iteration= 420, lrate=0.1, cost=0.47243010970203925 \n",
            "iteration= 421, lrate=0.1, cost=0.4724280807687912 \n",
            "iteration= 422, lrate=0.1, cost=0.47242607077320475 \n",
            "iteration= 423, lrate=0.1, cost=0.47242407951257703 \n",
            "iteration= 424, lrate=0.1, cost=0.4724221067867293 \n",
            "iteration= 425, lrate=0.1, cost=0.4724201523979703 \n",
            "iteration= 426, lrate=0.1, cost=0.4724182161510605 \n",
            "iteration= 427, lrate=0.1, cost=0.4724162978531773 \n",
            "iteration= 428, lrate=0.1, cost=0.47241439731388046 \n",
            "iteration= 429, lrate=0.1, cost=0.47241251434507825 \n",
            "iteration= 430, lrate=0.1, cost=0.4724106487609941 \n",
            "iteration= 431, lrate=0.1, cost=0.4724088003781334 \n",
            "iteration= 432, lrate=0.1, cost=0.47240696901525164 \n",
            "iteration= 433, lrate=0.1, cost=0.4724051544933226 \n",
            "iteration= 434, lrate=0.1, cost=0.4724033566355065 \n",
            "iteration= 435, lrate=0.1, cost=0.4724015752671201 \n",
            "iteration= 436, lrate=0.1, cost=0.4723998102156055 \n",
            "iteration= 437, lrate=0.1, cost=0.47239806131050077 \n",
            "iteration= 438, lrate=0.1, cost=0.4723963283834108 \n",
            "iteration= 439, lrate=0.1, cost=0.4723946112679778 \n",
            "iteration= 440, lrate=0.1, cost=0.47239290979985354 \n",
            "iteration= 441, lrate=0.1, cost=0.47239122381667065 \n",
            "iteration= 442, lrate=0.1, cost=0.472389553158016 \n",
            "iteration= 443, lrate=0.1, cost=0.4723878976654026 \n",
            "iteration= 444, lrate=0.1, cost=0.47238625718224353 \n",
            "iteration= 445, lrate=0.1, cost=0.4723846315538255 \n",
            "iteration= 446, lrate=0.1, cost=0.4723830206272831 \n",
            "iteration= 447, lrate=0.1, cost=0.4723814242515731 \n",
            "iteration= 448, lrate=0.1, cost=0.47237984227744956 \n",
            "iteration= 449, lrate=0.1, cost=0.4723782745574393 \n",
            "iteration= 450, lrate=0.1, cost=0.47237672094581706 \n",
            "iteration= 451, lrate=0.1, cost=0.47237518129858247 \n",
            "iteration= 452, lrate=0.1, cost=0.47237365547343557 \n",
            "iteration= 453, lrate=0.1, cost=0.47237214332975447 \n",
            "iteration= 454, lrate=0.1, cost=0.47237064472857193 \n",
            "iteration= 455, lrate=0.1, cost=0.4723691595325529 \n",
            "iteration= 456, lrate=0.1, cost=0.4723676876059729 \n",
            "iteration= 457, lrate=0.1, cost=0.472366228814696 \n",
            "iteration= 458, lrate=0.1, cost=0.4723647830261529 \n",
            "iteration= 459, lrate=0.1, cost=0.4723633501093206 \n",
            "iteration= 460, lrate=0.1, cost=0.47236192993470094 \n",
            "iteration= 461, lrate=0.1, cost=0.4723605223743005 \n",
            "iteration= 462, lrate=0.1, cost=0.4723591273016101 \n",
            "iteration= 463, lrate=0.1, cost=0.4723577445915856 \n",
            "iteration= 464, lrate=0.1, cost=0.47235637412062736 \n",
            "iteration= 465, lrate=0.1, cost=0.4723550157665618 \n",
            "iteration= 466, lrate=0.1, cost=0.472353669408622 \n",
            "iteration= 467, lrate=0.1, cost=0.47235233492742895 \n",
            "iteration= 468, lrate=0.1, cost=0.47235101220497383 \n",
            "iteration= 469, lrate=0.1, cost=0.47234970112459873 \n",
            "iteration= 470, lrate=0.1, cost=0.4723484015709797 \n",
            "iteration= 471, lrate=0.1, cost=0.47234711343010893 \n",
            "iteration= 472, lrate=0.1, cost=0.4723458365892772 \n",
            "iteration= 473, lrate=0.1, cost=0.4723445709370571 \n",
            "iteration= 474, lrate=0.1, cost=0.47234331636328586 \n",
            "iteration= 475, lrate=0.1, cost=0.4723420727590494 \n",
            "iteration= 476, lrate=0.1, cost=0.4723408400166651 \n",
            "iteration= 477, lrate=0.1, cost=0.47233961802966656 \n",
            "iteration= 478, lrate=0.1, cost=0.4723384066927874 \n",
            "iteration= 479, lrate=0.1, cost=0.47233720590194583 \n",
            "iteration= 480, lrate=0.1, cost=0.47233601555422844 \n",
            "iteration= 481, lrate=0.1, cost=0.4723348355478768 \n",
            "iteration= 482, lrate=0.1, cost=0.47233366578227054 \n",
            "iteration= 483, lrate=0.1, cost=0.4723325061579141 \n",
            "iteration= 484, lrate=0.1, cost=0.4723313565764215 \n",
            "iteration= 485, lrate=0.1, cost=0.47233021694050253 \n",
            "iteration= 486, lrate=0.1, cost=0.472329087153948 \n",
            "iteration= 487, lrate=0.1, cost=0.4723279671216168 \n",
            "iteration= 488, lrate=0.1, cost=0.47232685674942115 \n",
            "iteration= 489, lrate=0.1, cost=0.4723257559443145 \n",
            "iteration= 490, lrate=0.1, cost=0.4723246646142766 \n",
            "iteration= 491, lrate=0.1, cost=0.47232358266830216 \n",
            "iteration= 492, lrate=0.1, cost=0.4723225100163864 \n",
            "iteration= 493, lrate=0.1, cost=0.47232144656951364 \n",
            "iteration= 494, lrate=0.1, cost=0.47232039223964384 \n",
            "iteration= 495, lrate=0.1, cost=0.4723193469397005 \n",
            "iteration= 496, lrate=0.1, cost=0.47231831058355933 \n",
            "iteration= 497, lrate=0.1, cost=0.47231728308603466 \n",
            "iteration= 498, lrate=0.1, cost=0.4723162643628692 \n",
            "iteration= 499, lrate=0.1, cost=0.4723152543307216 \n"
          ],
          "name": "stdout"
        }
      ]
    },
    {
      "cell_type": "code",
      "metadata": {
        "colab": {
          "base_uri": "https://localhost:8080/",
          "height": 295
        },
        "id": "Yhs7L0pLMXud",
        "outputId": "795f1914-c4bb-4cd4-803a-3affcd5441df"
      },
      "source": [
        "plt.plot(cost_list)\n",
        "plt.xlabel(\"iteration\")\n",
        "plt.ylabel(\"loss function\")\n",
        "plt.title(\"loss function reduction by gradient descent \")\n",
        "plt.show()"
      ],
      "execution_count": null,
      "outputs": [
        {
          "output_type": "display_data",
          "data": {
            "image/png": "[encoded data removed]",
            "text/plain": [
              "<Figure size 432x288 with 1 Axes>"
            ]
          },
          "metadata": {
            "tags": [],
            "needs_background": "light"
          }
        }
      ]
    },
    {
      "cell_type": "code",
      "metadata": {
        "colab": {
          "base_uri": "https://localhost:8080/"
        },
        "id": "pxJgjpO77Rn5",
        "outputId": "d89b27a9-e775-4f74-e8cb-7846d2663969"
      },
      "source": [
        "print(\"previous coefficients \\n : {}\".format(lr.coef_))\n",
        "print(\"after GD, new  coefficients \\n : {}\".format(new_theta[1:]))"
      ],
      "execution_count": null,
      "outputs": [
        {
          "output_type": "stream",
          "text": [
            "previous coefficients \n",
            " : [[-0.15154059 -0.08537536 -0.06020004 -0.03197754  0.0785767  -0.13376906\n",
            "   0.11992008]]\n",
            "after GD, new  coefficients \n",
            " : [-0.76396547 -0.26751366  0.15868865 -0.07477921  0.21933543 -0.55608646\n",
            "  0.56443443]\n"
          ],
          "name": "stdout"
        }
      ]
    },
    {
      "cell_type": "markdown",
      "metadata": {
        "id": "A4Qsg28ror5e"
      },
      "source": [
        "**predicting with new optimised parameters**"
      ]
    },
    {
      "cell_type": "code",
      "metadata": {
        "id": "n5HyMtIT1-Ri"
      },
      "source": [
        "def predict_class(X,theta):\n",
        "  m,n=X.shape\n",
        "  p = np.zeros(shape=(m, 1))\n",
        "\n",
        "  h=sigmoid(np.dot(X,theta))\n",
        "  for it in range(0, X.shape[0]):\n",
        "    if h[it] > 0.5:    # if threshold is above 0.5, its class 1 else class 0\n",
        "      p[it,0]=1\n",
        "    else:\n",
        "      p[it, 0] = 0 \n",
        "  return p     "
      ],
      "execution_count": null,
      "outputs": []
    },
    {
      "cell_type": "code",
      "metadata": {
        "colab": {
          "base_uri": "https://localhost:8080/"
        },
        "id": "xwWV4p8TCd1x",
        "outputId": "56ffa7b1-eba6-4248-c54a-2ab5e831da7e"
      },
      "source": [
        "print(new_theta)"
      ],
      "execution_count": null,
      "outputs": [
        {
          "output_type": "stream",
          "text": [
            "[-1.2162785  -0.76396547 -0.26751366  0.15868865 -0.07477921  0.21933543\n",
            " -0.55608646  0.56443443]\n"
          ],
          "name": "stdout"
        }
      ]
    },
    {
      "cell_type": "code",
      "metadata": {
        "id": "6gBI_xQV357R"
      },
      "source": [
        "#theta_nw=np.reshape(new_theta, (8,))\n",
        "pred=predict_class(X_test_1,theta_nw)"
      ],
      "execution_count": null,
      "outputs": []
    },
    {
      "cell_type": "code",
      "metadata": {
        "colab": {
          "base_uri": "https://localhost:8080/"
        },
        "id": "eJnKJysx6BMz",
        "outputId": "ef5c8be9-6a51-404f-aa9c-dcc8a39cebab"
      },
      "source": [
        "#adjusting shape to calculate accuracy\n",
        "print(y_test.shape)\n",
        "print(pred.shape)\n",
        "pred=np.reshape(pred,((40,)))\n",
        "print(pred.shape)\n",
        "\n",
        "accuracy= (pred==y_test).sum()/float(pred.size)\n",
        "print(\"accuracy calculated on test set is {}\".format(accuracy * 100))"
      ],
      "execution_count": null,
      "outputs": [
        {
          "output_type": "stream",
          "text": [
            "(40,)\n",
            "(40, 1)\n",
            "(40,)\n",
            "accuracy calculated on test set is 77.5\n"
          ],
          "name": "stdout"
        }
      ]
    },
    {
      "cell_type": "code",
      "metadata": {
        "id": "6JpwHS7g7n4B"
      },
      "source": [
        "#to predict class 0 or 1 of any new observation:X_new\n",
        "#predict_class(X_new,theta_nw)"
      ],
      "execution_count": null,
      "outputs": []
    }
  ]
}